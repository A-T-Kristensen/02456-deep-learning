{
 "cells": [
  {
   "cell_type": "markdown",
   "metadata": {},
   "source": [
    "# Launching TensorBoard\n",
    "\n",
    "This notebook just demonstrates how to launch TensorBoard, but doesn't acutally say anything about how TensorBoard works.\n",
    "There are some good tutorials on how to use TensorBoard, that goes int much more detail.\n",
    "We suggest having a look.\n",
    "\n",
    "#### External Resources\n",
    "* [Graph visualization](https://www.tensorflow.org/get_started/graph_viz), \n",
    "* [Visualizing Learning](https://www.tensorflow.org/get_started/summaries_and_tensorboard), \n",
    "* [Embedding Visualization](https://www.tensorflow.org/get_started/embedding_viz)."
   ]
  },
  {
   "cell_type": "code",
   "execution_count": null,
   "metadata": {
    "collapsed": false
   },
   "outputs": [],
   "source": [
    "! tensorboard --logdir=. --port=6006\n",
    "\n",
    "print(\"Jupyter is occupied running Tensorboard! You can't even interrupt the kernel!\")"
   ]
  },
  {
   "cell_type": "markdown",
   "metadata": {},
   "source": [
    "The exclamation mark (!) tells Jupyter to execute the command in the terminal.\n",
    "This is generally NOT useful for TensorBoard, as it occupies the notebook, makeing it impossible to use.\n",
    "Since this notebook doesn't do anything else than starte TensorBoard it is fine, and you can keep using it for this if you like.\n",
    "\n",
    "It is however useful for installing missing pagages with `pip`, or downloading data with `wget` and so on.\n",
    "Especially if the notebook is hosted on a server it can be a nice hack.\n",
    "\n",
    "One you have run the above command open a new tab in your browser, and enter: \n",
    "\n",
    "    http://localhost:6006/\n",
    "\n",
    "The 6006 is the port ID. The default is `6006`, but you can specify anything you want (that isn't used for something else).\n"
   ]
  },
  {
   "cell_type": "markdown",
   "metadata": {},
   "source": [
    "## Credits\n",
    "This demonstration was created by Toke Faurby ([faur](https://github.com/Faur))"
   ]
  }
 ],
 "metadata": {
  "kernelspec": {
   "display_name": "Python 3",
   "language": "python",
   "name": "python3"
  },
  "language_info": {
   "codemirror_mode": {
    "name": "ipython",
    "version": 3
   },
   "file_extension": ".py",
   "mimetype": "text/x-python",
   "name": "python",
   "nbconvert_exporter": "python",
   "pygments_lexer": "ipython3",
   "version": "3.5.2"
  }
 },
 "nbformat": 4,
 "nbformat_minor": 1
}
