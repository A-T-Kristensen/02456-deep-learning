{
 "cells": [
  {
   "cell_type": "markdown",
   "metadata": {},
   "source": [
    "### Done\n",
    "* Describe Keras\n",
    "\n",
    "### To do\n",
    "* Creating a Sequential model\n",
    "* Accessing various parts of the sequential model\n",
    "* Load pre-trained weights\n",
    "\n",
    "### Notes\n"
   ]
  },
  {
   "cell_type": "markdown",
   "metadata": {},
   "source": [
    "# Keras Fundamentals\n",
    "This notebook serves as a quick introduction to Keras.\n",
    "As with the TF introduction this is very quick, so have a look at the **external resources** in order to get more depth:\n",
    "* [Keras code](https://github.com/tensorflow/tensorflow/tree/master/tensorflow/contrib/keras) in the TF github repo. Looking at the code is often the best way to understand what is going on.\n",
    "* [Keras as a simplified interface to TensorFlow: tutorial](https://blog.keras.io/keras-as-a-simplified-interface-to-tensorflow-tutorial.html)\n",
    "* [TensorFlow High-Level APIs: Models in a Box (TensorFlow Dev Summit 2017)](https://www.youtube.com/watch?v=t64ortpgS-E) 17 min video\n",
    "* [Integrating Keras & TensorFlow: The Keras workflow, expanded (TensorFlow Dev Summit 2017)](https://www.youtube.com/watch?v=UeheTiBJ0Io) 18 min video\n"
   ]
  },
  {
   "cell_type": "markdown",
   "metadata": {},
   "source": [
    "## High-level APIs\n",
    "Pure TF is very verbose, and it is therefore a good idea to use a high-level API of some sort.\n",
    "This simplifies and speeds-up development, reduces the risk of bugs, and generally reduces headache.\n",
    "Another neat benefit is that a lot of best practices (initialization, scoping, etc.) are hard-coded into the functions.\n",
    "\n",
    "There are other high-level APIs than Keras, such as \n",
    "[TFLearn](http://tflearn.org/),\n",
    "[tf.learn](https://www.tensorflow.org/get_started/tflearn) (yes, the names are confusing :( ),\n",
    "[tf.slim](https://github.com/tensorflow/tensorflow/tree/master/tensorflow/contrib/slim), and\n",
    "[tf.layers](https://www.tensorflow.org/api_docs/python/tf/layers).\n",
    "These are generally intercompatible, and offer overlaping functionality.\n",
    "This can be confusing.\n",
    "In order to simplify things we have chosen to focus on just one: Keras.\n",
    "\n",
    "**[Keras](https://keras.io/)**\n",
    "is a high-level API that can use TensorFlow or Theano as backend.\n",
    "In early 2017 [TensorFlow chose Keras](http://www.fast.ai/2017/01/03/keras/) as the first high-level API to include into the tensorflow core (as opposed to contrib).\n",
    "Keras has official Google support and has a large community and pre-existing examples.\n",
    "Making it the best high-level API to learn at the moment (according to the author).\n",
    "\n",
    "Keras sits of top of TFLayers, and shares its implementation (e.g. `tf.layers.dense` and `keras.layers.Dense` are the same).\n",
    "Keras helps with model creation, training, and evaluation.\n",
    "We won't use Keras to its full potential in this course, as it sometimes encapsulates the details to such an extent that it hinders learning.\n",
    "\n",
    "![](keras_overview.png)\n",
    "\n"
   ]
  },
  {
   "cell_type": "markdown",
   "metadata": {},
   "source": [
    "## A Basic Example\n",
    "\n",
    "Keras can be accessed either as a stand alone library (that can use different backends), or through TF.\n",
    "This only affects the import statements, and porting code back and forth should be very simple.\n",
    "We will access Keras through TF, in order to ensure that the versions are fully compatible.\n",
    "\n",
    "\n"
   ]
  },
  {
   "cell_type": "code",
   "execution_count": null,
   "metadata": {
    "collapsed": false
   },
   "outputs": [],
   "source": [
    "import tensorflow as tf\n",
    "import tensorflow.contrib.keras as keras\n",
    "import tensorflow.contrib.keras.api.keras.models as models\n",
    "import tensorflow.contrib.keras.api.keras.layers as layers\n",
    "\n",
    "if int(tf.__version__[0]) < 1:\n",
    "    print('WARNING: This will probably not work with TF version < 1.0')\n",
    "    print('Your version is ' + tf.__version__)"
   ]
  },
  {
   "cell_type": "markdown",
   "metadata": {},
   "source": [
    "## Using pre-trained models\n"
   ]
  },
  {
   "cell_type": "markdown",
   "metadata": {},
   "source": [
    "Read more about [using pretrained models with Keras](https://keras.io/applications/)\n",
    "\n",
    "22 million parameters\n",
    "\n",
    "[Inception in TF](https://github.com/tensorflow/models/tree/master/inception)\n",
    "\n",
    "Code: [inception_v3.py](https://github.com/tensorflow/tensorflow/blob/master/tensorflow/contrib/keras/python/keras/applications/inception_v3.py). How it is implemented in Keras."
   ]
  },
  {
   "cell_type": "code",
   "execution_count": null,
   "metadata": {
    "collapsed": false
   },
   "outputs": [],
   "source": [
    "## RUN THIS CELL ASAP! It takes a while to complete!\n",
    "## The cell downloads the weights (~80 mb), if they aren't already.\n",
    "\n",
    "# Create a \n",
    "inception_stem = tf.contrib.keras.applications.InceptionV3(\n",
    "    weights='imagenet',\n",
    "    include_top=False, # Don't include the dense layers on top of the network\n",
    "    input_shape=None, # width and height should be no smaller than 139\n",
    "#     pool='avg'\n",
    ")\n",
    "\n",
    "# Initially we don't want to change \n",
    "inception_stem.trainable = False"
   ]
  },
  {
   "cell_type": "code",
   "execution_count": null,
   "metadata": {
    "collapsed": false,
    "scrolled": true
   },
   "outputs": [],
   "source": [
    "## Try and \n",
    "# inception_stem.summary()"
   ]
  },
  {
   "cell_type": "code",
   "execution_count": null,
   "metadata": {
    "collapsed": true
   },
   "outputs": [],
   "source": []
  },
  {
   "cell_type": "markdown",
   "metadata": {
    "collapsed": true
   },
   "source": [
    "# Credits\n",
    "Created by Toke Faurby ([faur](https://github.com/Faur)).\n"
   ]
  }
 ],
 "metadata": {
  "kernelspec": {
   "display_name": "Python 3",
   "language": "python",
   "name": "python3"
  },
  "language_info": {
   "codemirror_mode": {
    "name": "ipython",
    "version": 3
   },
   "file_extension": ".py",
   "mimetype": "text/x-python",
   "name": "python",
   "nbconvert_exporter": "python",
   "pygments_lexer": "ipython3",
   "version": "3.5.2"
  }
 },
 "nbformat": 4,
 "nbformat_minor": 1
}
