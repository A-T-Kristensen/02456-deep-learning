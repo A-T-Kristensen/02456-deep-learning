{
 "cells": [
  {
   "cell_type": "markdown",
   "metadata": {},
   "source": [
    "# TensorFlow Basics\n",
    "This Jupyter Notebook contains a very fast introduction to TensorFlow and deep learning.\n",
    "This introduciton is very fast, and leaves many topics untouched.\n",
    "If you want a deeper dive we recommend having a look the following:\n",
    "\n",
    "#### External resources\n",
    "* Official TF Resources: \n",
    "    * [Getting started](https://www.tensorflow.org/get_started/) - collection of good tutorials from beginer to very advanced\n",
    "    * **[Python API Guides](https://www.tensorflow.org/api_guides/python/array_ops)** - GREAT place to look up how to use TF!\n",
    "    * [All symbols in TensorFlow](https://www.tensorflow.org/api_docs/python/) - For looking up the things you can't find other places\n",
    "* LearningTensorFlow.org: [Getitng Started](http://learningtensorflow.com/getting_started/)\n",
    "\n",
    "#### Credits\n",
    "Created by Toke Faurby ([faur](https://github.com/Faur)), based on previous work by \n",
    "* Lars Maaløe ([larsmaaloee](https://github.com/larsmaaloee))\n",
    "* Casper Sønderby ([casperkaae](https://github.com/casperkaae))\n",
    "* Søren Kaae Sønderby ([skaae](https://github.com/skaae))\n",
    "* Jonas Busk ([jonasbusk](https://github.com/jonasbusk))\n",
    "* Alexander R Johansen ([alrojo](https://github.com/alrojo))\n"
   ]
  },
  {
   "cell_type": "markdown",
   "metadata": {},
   "source": [
    "### What is TensorFlow\n",
    "TensorFlow provides multiple APIs. The lowest level API, **TensorFlow Core**, provides you with fine-grained control.\n",
    "Higher level APIs, built on top of TensorFlow Core, are generally faster and easier to use.\n",
    "One example is `tf.contrib.learn`, which helps manage data, training, and inference. \n",
    "This guide begins with an introduction to **TensorFlow Core**.\n",
    "Later we will demonstrate how to use Tensorflow in a more development-realistic way.\n",
    "\n",
    "**NB**: The some of the API whose names contain `contrib` are still in development, and their interface may change.\n",
    "\n",
    "<br>\n",
    "\n",
    "\n",
    "To use TensorFlow you need to understand how TensorFlow:\n",
    "* Represents computations as graphs.\n",
    "* Executes graphs in the context of Sessions.\n",
    "* Represents data as tensors.\n",
    "* Maintains state with Variables.\n",
    "* Uses feeds and fetches to get data into and out of arbitrary operations.\n",
    "\n",
    "\n",
    "\n",
    "___\n",
    "TensorFlow is a programming system in which you represent computations as graphs. \n",
    "The two basic building blocks of (form now on reffered to as TF) are **tensors** and **operations** (called ops for short).\n",
    "* **Tensors**: The edges in the graph\n",
    "    * A Tensor is a typed multi-dimensional array, and are how information flows through the graph.\n",
    "    * Tensors are used for data and parameters\n",
    "* **Ops**: the nodes in the graph \n",
    "    * An op takes zero or more Tensors, performs some computation, and produces zero or more Tensors.\n",
    "\n",
    "A TensorFlow graph is a description of computations. To compute anything, a graph must be launched in a `Session`. A Session places the graph ops onto `Devices`, such as CPUs or GPUs, and provides methods to execute them. These methods return tensors produced by ops as [numpy](http://www.numpy.org/) ndarray objects in Python, and as tensorflow::Tensor instances in C and C++.\n",
    "\n",
    "TensorFlow can be used from C, C++, and Python programs, with Python being the most common and best supported.\n",
    "\n",
    "\n",
    "Automatic differentiation\n",
    "\n",
    "Ease of parallelization\n",
    "\n"
   ]
  },
  {
   "cell_type": "markdown",
   "metadata": {},
   "source": [
    "# Example 1: The ultra basics\n",
    "\n",
    "\n"
   ]
  },
  {
   "cell_type": "markdown",
   "metadata": {},
   "source": [
    "### Basic operations\n",
    "\n",
    "Let us begin with a simple example: 2D linear regression: $y = ax + b$. Where $x$ is the input, $y$ is the output, and $a,~b$ are the parameters.\n",
    "\n",
    "For starters let us compute $y$ when $a=2$, and $b=-1$ for a couple of different $x$."
   ]
  },
  {
   "cell_type": "code",
   "execution_count": 1,
   "metadata": {
    "collapsed": false
   },
   "outputs": [],
   "source": [
    "## Import libraries\n",
    "import tensorflow as tf\n",
    "import numpy as np\n",
    "import os\n",
    "import sys\n",
    "sys.path.append(os.path.join('.', '..'))\n",
    "\n",
    "import utils # Custom handy \n"
   ]
  },
  {
   "cell_type": "code",
   "execution_count": 2,
   "metadata": {
    "collapsed": false
   },
   "outputs": [],
   "source": [
    "## Building the computational graph\n",
    "\n",
    "tf.reset_default_graph()\n",
    "\n",
    "x = tf.placeholder(tf.float32, shape=[None, ], name=\"x\")\n",
    "a = tf.Variable(2., name=\"a\")\n",
    "b = tf.Variable(-1., name=\"b\")\n",
    "\n",
    "with tf.name_scope('y'):\n",
    "    y = a*x + b\n",
    "    "
   ]
  },
  {
   "cell_type": "markdown",
   "metadata": {},
   "source": [
    "#### What just happened?\n",
    "\n",
    "Placeholders input and output of graph\n",
    "\n",
    "\n",
    "Variables\n",
    "\n",
    "None\n",
    "\n",
    "#### External resources:\n",
    "* **Variables**: \n",
    "    [Guide](https://www.tensorflow.org/programmers_guide/variables),\n",
    "    [Documentation](https://www.tensorflow.org/api_docs/python/tf/Variable)\n",
    "* **Placeholders**: \n",
    "    [Documentation](https://www.tensorflow.org/versions/r0.11/api_docs/python/io_ops/placeholders)\n"
   ]
  },
  {
   "cell_type": "code",
   "execution_count": 49,
   "metadata": {
    "collapsed": false,
    "scrolled": false
   },
   "outputs": [
    {
     "name": "stdout",
     "output_type": "stream",
     "text": [
      "  x  :   y \n",
      "-2.0 : -5.0\n",
      "-1.0 : -3.0\n",
      " 0.0 : -1.0\n",
      " 1.0 :  1.0\n",
      " 2.0 :  3.0\n"
     ]
    }
   ],
   "source": [
    "## Performing calculations\n",
    "init_op = tf.global_variables_initializer()\n",
    "\n",
    "x_values = [-2, -1, 0, 1, 2]\n",
    "\n",
    "with tf.Session() as sess:\n",
    "    sess.run(init_op)\n",
    "    feed_dict = {x : x_valuse}\n",
    "    y_computed = sess.run(y, feed_dict=feed_dict)\n",
    "\n",
    "print('{:4s} : {:4s}'.format('  x', '  y'))\n",
    "for i in range(len(x_values)):\n",
    "    s = \"{:4.1f} : {:4.1f}\"\n",
    "    print(s.format(x_values[i], y_computed[i]))\n"
   ]
  },
  {
   "cell_type": "markdown",
   "metadata": {},
   "source": [
    "#### What just happened?\n",
    "\n",
    "\n",
    "\n",
    "sess = tf.Session()\n",
    "\n",
    "sess.close()"
   ]
  },
  {
   "cell_type": "markdown",
   "metadata": {},
   "source": [
    "### Examining the graph with TensorBoard\n",
    "\n",
    "Normally TensorBoard is run separately by\n",
    "\n",
    "    tensorboard logdir==\n",
    "    \n",
    "And then accessed by going to the correct port. Typically `localhost:6006`\n",
    "\n",
    "If you are interested in how TensorBoard was embedded see `../utils.py`."
   ]
  },
  {
   "cell_type": "code",
   "execution_count": 51,
   "metadata": {
    "collapsed": false,
    "scrolled": false
   },
   "outputs": [
    {
     "data": {
      "text/html": [
       "\n",
       "        <iframe seamless style=\"width:800px;height:620px;border:0\" srcdoc=\"\n",
       "        <script>\n",
       "          function load() {\n",
       "            document.getElementById(&quot;graph0.1319186341301788&quot;).pbtxt = 'node {\\n  name: &quot;x&quot;\\n  op: &quot;Placeholder&quot;\\n  attr {\\n    key: &quot;dtype&quot;\\n    value {\\n      type: DT_FLOAT\\n    }\\n  }\\n  attr {\\n    key: &quot;shape&quot;\\n    value {\\n      shape {\\n      }\\n    }\\n  }\\n}\\nnode {\\n  name: &quot;a/initial/value&quot;\\n  op: &quot;Const&quot;\\n  attr {\\n    key: &quot;dtype&quot;\\n    value {\\n      type: DT_FLOAT\\n    }\\n  }\\n  attr {\\n    key: &quot;value&quot;\\n    value {\\n      tensor {\\n        dtype: DT_FLOAT\\n        tensor_shape {\\n        }\\n        float_val: 2.0\\n      }\\n    }\\n  }\\n}\\nnode {\\n  name: &quot;a&quot;\\n  op: &quot;VariableV2&quot;\\n  attr {\\n    key: &quot;container&quot;\\n    value {\\n      s: &quot;&quot;\\n    }\\n  }\\n  attr {\\n    key: &quot;dtype&quot;\\n    value {\\n      type: DT_FLOAT\\n    }\\n  }\\n  attr {\\n    key: &quot;shape&quot;\\n    value {\\n      shape {\\n      }\\n    }\\n  }\\n  attr {\\n    key: &quot;shared_name&quot;\\n    value {\\n      s: &quot;&quot;\\n    }\\n  }\\n}\\nnode {\\n  name: &quot;a/Assign&quot;\\n  op: &quot;Assign&quot;\\n  input: &quot;a&quot;\\n  input: &quot;a/initial/value&quot;\\n  attr {\\n    key: &quot;T&quot;\\n    value {\\n      type: DT_FLOAT\\n    }\\n  }\\n  attr {\\n    key: &quot;_class&quot;\\n    value {\\n      list {\\n        s: &quot;loc:@a&quot;\\n      }\\n    }\\n  }\\n  attr {\\n    key: &quot;use_locking&quot;\\n    value {\\n      b: true\\n    }\\n  }\\n  attr {\\n    key: &quot;validate_shape&quot;\\n    value {\\n      b: true\\n    }\\n  }\\n}\\nnode {\\n  name: &quot;a/read&quot;\\n  op: &quot;Identity&quot;\\n  input: &quot;a&quot;\\n  attr {\\n    key: &quot;T&quot;\\n    value {\\n      type: DT_FLOAT\\n    }\\n  }\\n  attr {\\n    key: &quot;_class&quot;\\n    value {\\n      list {\\n        s: &quot;loc:@a&quot;\\n      }\\n    }\\n  }\\n}\\nnode {\\n  name: &quot;b/initial/value&quot;\\n  op: &quot;Const&quot;\\n  attr {\\n    key: &quot;dtype&quot;\\n    value {\\n      type: DT_FLOAT\\n    }\\n  }\\n  attr {\\n    key: &quot;value&quot;\\n    value {\\n      tensor {\\n        dtype: DT_FLOAT\\n        tensor_shape {\\n        }\\n        float_val: -1.0\\n      }\\n    }\\n  }\\n}\\nnode {\\n  name: &quot;b&quot;\\n  op: &quot;VariableV2&quot;\\n  attr {\\n    key: &quot;container&quot;\\n    value {\\n      s: &quot;&quot;\\n    }\\n  }\\n  attr {\\n    key: &quot;dtype&quot;\\n    value {\\n      type: DT_FLOAT\\n    }\\n  }\\n  attr {\\n    key: &quot;shape&quot;\\n    value {\\n      shape {\\n      }\\n    }\\n  }\\n  attr {\\n    key: &quot;shared_name&quot;\\n    value {\\n      s: &quot;&quot;\\n    }\\n  }\\n}\\nnode {\\n  name: &quot;b/Assign&quot;\\n  op: &quot;Assign&quot;\\n  input: &quot;b&quot;\\n  input: &quot;b/initial/value&quot;\\n  attr {\\n    key: &quot;T&quot;\\n    value {\\n      type: DT_FLOAT\\n    }\\n  }\\n  attr {\\n    key: &quot;_class&quot;\\n    value {\\n      list {\\n        s: &quot;loc:@b&quot;\\n      }\\n    }\\n  }\\n  attr {\\n    key: &quot;use_locking&quot;\\n    value {\\n      b: true\\n    }\\n  }\\n  attr {\\n    key: &quot;validate_shape&quot;\\n    value {\\n      b: true\\n    }\\n  }\\n}\\nnode {\\n  name: &quot;b/read&quot;\\n  op: &quot;Identity&quot;\\n  input: &quot;b&quot;\\n  attr {\\n    key: &quot;T&quot;\\n    value {\\n      type: DT_FLOAT\\n    }\\n  }\\n  attr {\\n    key: &quot;_class&quot;\\n    value {\\n      list {\\n        s: &quot;loc:@b&quot;\\n      }\\n    }\\n  }\\n}\\nnode {\\n  name: &quot;y/mul&quot;\\n  op: &quot;Mul&quot;\\n  input: &quot;a/read&quot;\\n  input: &quot;x&quot;\\n  attr {\\n    key: &quot;T&quot;\\n    value {\\n      type: DT_FLOAT\\n    }\\n  }\\n}\\nnode {\\n  name: &quot;y/add&quot;\\n  op: &quot;Add&quot;\\n  input: &quot;y/mul&quot;\\n  input: &quot;b/read&quot;\\n  attr {\\n    key: &quot;T&quot;\\n    value {\\n      type: DT_FLOAT\\n    }\\n  }\\n}\\nnode {\\n  name: &quot;init&quot;\\n  op: &quot;NoOp&quot;\\n  input: &quot;^a/Assign&quot;\\n  input: &quot;^b/Assign&quot;\\n}\\n';\n",
       "          }\n",
       "        </script>\n",
       "        <link rel=&quot;import&quot; href=&quot;https://tensorboard.appspot.com/tf-graph-basic.build.html&quot; onload=load()>\n",
       "        <div style=&quot;height:600px&quot;>\n",
       "          <tf-graph-basic id=&quot;graph0.1319186341301788&quot;></tf-graph-basic>\n",
       "        </div>\n",
       "    \"></iframe>\n",
       "    "
      ],
      "text/plain": [
       "<IPython.core.display.HTML object>"
      ]
     },
     "metadata": {},
     "output_type": "display_data"
    }
   ],
   "source": [
    "## Launch TensorBoard, and visualize the TF graph\n",
    "tmp_def = utils.rename_nodes(sess.graph_def, lambda s:\"/\".join(s.split('_',1)))\n",
    "utils.show_graph(tmp_def)"
   ]
  },
  {
   "cell_type": "markdown",
   "metadata": {},
   "source": [
    "Click a node to see its attributes and high level information.\n",
    "**Double click a node to expand it**. Try double clicking on `y`.\n",
    "Doing so will show you the operations that are necessary to compute `y`, i.e. a multiplication and an addition.\n",
    "The TensorBoard graph visualizer is a great tool for examining your model.\n",
    "It is especially useful for examining the dimensions of your data as it flows through the graph.\n",
    "\n",
    "It is important to use the `tf.name_scope` properly.\n",
    "Otherwise the graph visualizer quickly becomes unwieldy.\n",
    "This takes practice, but it is well worth it.\n",
    "Propper usage of `tf.name_scope` also makes debugging easier, so it is a good habbit to get into.\n",
    "\n",
    "#### External resources\n",
    "* **TensorBoard**: \n",
    "    [Graph visualization](https://www.tensorflow.org/get_started/graph_viz), \n",
    "    [Visualizing Learning](https://www.tensorflow.org/get_started/summaries_and_tensorboard), \n",
    "    [Embedding Visualization](https://www.tensorflow.org/get_started/embedding_viz)."
   ]
  },
  {
   "cell_type": "markdown",
   "metadata": {},
   "source": [
    "### Modifying the graph\n",
    "\n",
    "Lets say we want to add 2 to `a`, and then perform the same calculation as before. How might one go about this?"
   ]
  },
  {
   "cell_type": "code",
   "execution_count": 43,
   "metadata": {
    "collapsed": false
   },
   "outputs": [
    {
     "name": "stdout",
     "output_type": "stream",
     "text": [
      "x =  2\n",
      "\n",
      "a before update:  2.0\n",
      "y before update:  3.0\n",
      "\n",
      "a after update 1: 4.0\n",
      "y after update 1: 7.0\n",
      "\n",
      "a after update 2: 6.0\n",
      "y after update 2: 11.0\n"
     ]
    }
   ],
   "source": [
    "## Updating the graph\n",
    "update = tf.assign(a, tf.add(a, tf.constant(2.)))\n",
    "\n",
    "x_values = [2]\n",
    "print('x = ', x_values[0], end='\\n\\n')\n",
    "with tf.Session() as sess:\n",
    "    sess.run(init_op)\n",
    "    \n",
    "    feed_dict = {x : x_values}\n",
    "    y_computed = sess.run(y, feed_dict=feed_dict)\n",
    "    print('a before update: ', sess.run(a))\n",
    "    print('y before update: ', y_computed[0], end='\\n\\n')\n",
    "\n",
    "    sess.run(update)\n",
    "    y_computed = sess.run(y, feed_dict=feed_dict)\n",
    "    print('a after update 1:', sess.run(a))\n",
    "    print('y after update 1:', y_computed[0], end='\\n\\n')\n",
    "\n",
    "    sess.run(update)\n",
    "    y_computed = sess.run(y, feed_dict=feed_dict)\n",
    "    print('a after update 2:', sess.run(a))\n",
    "    print('y after update 2:', y_computed[0])\n"
   ]
  },
  {
   "cell_type": "markdown",
   "metadata": {},
   "source": [
    "# Example 2: Logistic Regression"
   ]
  },
  {
   "cell_type": "code",
   "execution_count": null,
   "metadata": {
    "collapsed": true
   },
   "outputs": [],
   "source": []
  },
  {
   "cell_type": "code",
   "execution_count": null,
   "metadata": {
    "collapsed": true
   },
   "outputs": [],
   "source": []
  },
  {
   "cell_type": "code",
   "execution_count": null,
   "metadata": {
    "collapsed": true
   },
   "outputs": [],
   "source": []
  },
  {
   "cell_type": "code",
   "execution_count": null,
   "metadata": {
    "collapsed": true
   },
   "outputs": [],
   "source": []
  },
  {
   "cell_type": "code",
   "execution_count": null,
   "metadata": {
    "collapsed": true
   },
   "outputs": [],
   "source": []
  },
  {
   "cell_type": "code",
   "execution_count": null,
   "metadata": {
    "collapsed": true
   },
   "outputs": [],
   "source": []
  },
  {
   "cell_type": "code",
   "execution_count": null,
   "metadata": {
    "collapsed": true
   },
   "outputs": [],
   "source": []
  }
 ],
 "metadata": {
  "kernelspec": {
   "display_name": "Python 3",
   "language": "python",
   "name": "python3"
  },
  "language_info": {
   "codemirror_mode": {
    "name": "ipython",
    "version": 3
   },
   "file_extension": ".py",
   "mimetype": "text/x-python",
   "name": "python",
   "nbconvert_exporter": "python",
   "pygments_lexer": "ipython3",
   "version": "3.5.2"
  }
 },
 "nbformat": 4,
 "nbformat_minor": 0
}
