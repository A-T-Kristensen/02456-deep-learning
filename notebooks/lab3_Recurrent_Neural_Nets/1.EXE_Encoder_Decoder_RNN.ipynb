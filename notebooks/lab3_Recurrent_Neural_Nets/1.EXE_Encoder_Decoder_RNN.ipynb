{
 "cells": [
  {
   "cell_type": "code",
   "execution_count": 1,
   "metadata": {
    "collapsed": true
   },
   "outputs": [],
   "source": [
    "from __future__ import absolute_import, division, print_function\n",
    "\n",
    "%matplotlib inline\n",
    "# %matplotlib nbagg\n",
    "import tensorflow as tf\n",
    "import matplotlib\n",
    "import numpy as np\n",
    "import matplotlib.pyplot as plt\n",
    "from IPython import display\n",
    "from data_generator_tensorflow import get_batch, print_valid_characters\n",
    "\n",
    "import os\n",
    "import sys\n",
    "sys.path.append(os.path.join('.', '..')) \n",
    "import utils \n",
    "\n",
    "import tf_utils"
   ]
  },
  {
   "cell_type": "markdown",
   "metadata": {},
   "source": [
    "# Recurrent Neural Networks\n",
    "> <span style=\"color:gray\">\n",
    "Original [Theano/Lasagne tutorial](https://github.com/DeepLearningDTU/nvidia_deep_learning_summercamp_2016/) by \n",
    "Lars Maaløe ([larsmaaloee](https://github.com/larsmaaloee)),\n",
    "Søren Kaae Sønderby ([skaae](https://github.com/skaae)), and \n",
    "Casper Sønderby ([casperkaae](https://github.com/casperkaae)). \n",
    "Converted to TensorFlow by \n",
    "Alexander R. Johansen ([alrojo](https://github.com/alrojo)), \n",
    "and updated by \n",
    "Toke Faurby ([faur](https://github.com/Faur)).\n",
    "> </span>\n",
    "\n",
    "Recurrent neural networks (RNN) are the natural type of neural network to use for sequential data e.g. time series analysis, translation, speech recognition, biological sequence analysis etc.\n",
    "RNNs works by recursively applying the same operation to an input $x_t$ and its own hidden state from the previous timestep $h_{t-1}$.\n",
    "That is to say that each layer can be described by the function $f$:\n",
    "\n",
    "$$y_t, h_t = f(x_t, h_{t-1})$$\n",
    "\n",
    "where $y_t$ is the output.\n",
    "An RNN can therefore handle input of varying length.\n",
    "\n",
    "Drawing all the connections in a RNN (left) quickly becomes messy, therefore it is common to use the time unrolled view (right) when representing RNNs.\n",
    "<img src='images/rnn_basic.png', width=600>\n",
    "*Image by [Alex Graves](https://www.cs.toronto.edu/~graves/preprint.pdf)*\n",
    "\n",
    "\n",
    "\n",
    "#### External resources\n",
    "* The code describing RNNs can be tricky to understand at first. \n",
    "R2T2 has a great tutorial series ([part 1](https://r2rt.com/recurrent-neural-networks-in-tensorflow-i.html), [part 2](https://r2rt.com/recurrent-neural-networks-in-tensorflow-ii.html)) that digs into the details of how RNNs are implemented in TensorFlow. This introduction is heavily inspired by part 1.\n",
    "* For more in depth background material on RNNs please see [Supervised Sequence Labelling with Recurrent\n",
    "Neural Networks](https://www.cs.toronto.edu/~graves/preprint.pdf) by Alex Graves\n",
    "* Lastly there is an [official TensorFlow tutorial](https://www.tensorflow.org/tutorials/recurrent) that is also worth a look"
   ]
  },
  {
   "cell_type": "markdown",
   "metadata": {},
   "source": [
    "# Encoder-Decoder Models\n",
    "\n",
    "\n",
    "Recurrent networks can be used for several kinds of prediction tasks including: \n",
    "* **One-to-one** - NOT a recurrent network. E.g. image classification.\n",
    "* **One-to-many** - E.g. creating an [image caption](http://cs.stanford.edu/people/karpathy/deepimagesent/) with an RNN.\n",
    "* **Many-to-one** - E.g. sentiment analysis of text.\n",
    "* **Many-to-many** (different lengths) This is a combination of the *one-to-many* and *many-to-One*, and is called an **encoder-decoder** RNN. E.g. machine translation.\n",
    "* **Many-to-many** (same length) Each input has an output. E.g. robotics control.\n",
    "\n",
    "\n",
    "<img src=\"images/types.jpeg\", width=800>\n",
    "\n",
    "*Image courtesy Andrej Karpathy's [blog](http://karpathy.github.io/2015/05/21/rnn-effectiveness/)*\n",
    "\n"
   ]
  },
  {
   "cell_type": "markdown",
   "metadata": {},
   "source": [
    "## Encoder-Decoder\n",
    "In this exercise we'll implement a Encoder-Decoder RNN based for a simple sequence to sequence translation task.\n",
    "We will use a special kind of unit, called the GRU unit.\n",
    "The GRU unit stores a hidden value per neuron that helps it '*remember*' long-term dependencies.\n",
    "Another popular choice of unit type is LSTM, which store two values, but these are approximately twice as slow as GRU.\n",
    "GRUs (and LSTMs) can be difficult to understand at first.\n",
    "For a very good not-to-mathematical introduction see \n",
    "[Chris Olahs blog](http://colah.github.io/posts/2015-08-Understanding-LSTMs/) or\n",
    "[Andrej Karpathys blog](http://karpathy.github.io/2015/05/21/rnn-effectiveness/)\n",
    "(All their posts are nice and cover various topics within machine-learning).\n",
    "This type of models have shown impressive performance in Neural Machine Translation and Image Caption generation. \n",
    "\n",
    "\n",
    "In the encoder-decoder structure one RNN (blue) encodes the input into a hidden representation, and a second RNN (red) uses this representation to predict the target values.\n",
    "An essential step is deciding how the encoder and decoder should communicate.\n",
    "In the simplest approach you use the last hidden state of the encoder to initialize the decoder.\n",
    "This is what we will do in this notebook, as shown here:\n",
    "\n",
    "<img src='images/enc-dec.png', width=400>\n",
    "\n",
    "#### Teacher forcing\n",
    "We will also use what is called *teacher forcing*.\n",
    "This is shown as the gray lines in the figure.\n",
    "This means that the RNN will implement a sequence of conditional distributions so the $t$th output of the decoder gives $p(y_t|y_1,\\dots,y_{t-1} ,x)$. This formulation will make the task easier and faster for the network to learn because it during training always have access to the correct preceding outputs.\n",
    "A test time where we we don't know the output sequence we have to predict one step at a time. \n",
    "There is no guarantee that we will find the mostly likely decoded *sequence*. A technique called [beam search](https://arxiv.org/pdf/1702.01806.pdf) is used in machine translation and related tasks to look for list of candidate decoded sequences.    \n",
    "\n",
    "\n",
    "\n",
    "#### Alternatives\n",
    "There are other ways to let the encoder and decoder communicate with each other.\n",
    "For instance you can give the last state of the Encoder as input to the Decoder at each decode time step, not just the previously predicted word.\n",
    "Another approache is called **attention**, which lets the Decoder attend to different parts of the encoded input at different timesteps in the decoding process. \n",
    "Attention is shown in the next notebook. \n",
    "\n"
   ]
  },
  {
   "cell_type": "markdown",
   "metadata": {},
   "source": [
    "### The Data\n",
    "Since RNN models can be very slow to train on real large datasets we will generate some simpler training data for this exercise. The task for the RNN is simply to translate a string of letters spelling the numbers between 0-9 into the corresponding numbers i.e\n",
    "\n",
    "    \"one two five\" --> \"125#\"\n",
    "\n",
    "`#` is a special end-of-sequence character, indicating the sequence is done.\n",
    "\n",
    "To input the strings into the RNN model we translate the characters into a vector integers using a simple translation table (i.e. 'h'->16, 'o'-> 17 etc).\n",
    "The code below prints a few input/output pairs using the *get_batch* function which randomy produces the data.\n",
    "\n",
    "\n",
    "In the data loader below will setup the data and print some information. \n",
    "Key to understand are:\n",
    " * ENCODED INPUTS (`inputs`) are feed into the encoder (`A B C D` in the figure)\n",
    " * ENCODED TARGETS OUTPUT (`targets_out`) are what we want the network to predict. This is used to compute the error. (`X Y Z EOS` in the figure) \n",
    " * ENCODED TARGETS INPUT (`targets_in`) are used for teacher forcing during training. (`EOS X Y Z` in the figure) \n",
    " \n",
    "Note; that we use the same symbol for end-of-sequence as for start-of-sequence (`#`).\n"
   ]
  },
  {
   "cell_type": "code",
   "execution_count": 3,
   "metadata": {
    "collapsed": true
   },
   "outputs": [],
   "source": [
    "# At the bottom of the script there is some code which saves the model.\n",
    "# If you wish to restore your model from a previous state use this function.\n",
    "#load_model = False\n",
    "load_model = True"
   ]
  },
  {
   "cell_type": "code",
   "execution_count": 4,
   "metadata": {},
   "outputs": [
    {
     "name": "stdout",
     "output_type": "stream",
     "text": [
      "input types: int32 int32 int32 int32 int32\n",
      "Number of valid characters: 27\n",
      "'0'=0,\t'1'=1,\t'2'=2,\t'3'=3,\t'4'=4,\t'5'=5,\t'6'=6,\t'7'=7,\t'8'=8,\t'9'=9,\t'#'=10,\t'o'=11,\t'x'=12,\t'g'=13,\t'i'=14,\t'v'=15,\t'n'=16,\t'f'=17,\t't'=18,\t'h'=19,\t'w'=20,\t' '=21,\t'z'=22,\t's'=23,\t'e'=24,\t'r'=25,\t'u'=26,\t\n",
      "Stop/start character = #\n",
      "\n",
      "SAMPLE 0\n",
      "TEXT INPUTS:\t\t\t one three\n",
      "ENCODED INPUTS:\t\t\t [11 16 24 21 18 19 25 24 24  0  0  0  0  0  0  0  0  0  0]\n",
      "INPUTS SEQUENCE LENGTH:\t\t 9\n",
      "TEXT TARGETS OUTPUT:\t\t 13#\n",
      "TEXT TARGETS INPUT:\t\t #13\n",
      "ENCODED TARGETS OUTPUT:\t\t [ 1  3 10  0  0]\n",
      "ENCODED TARGETS INPUT:\t\t [10  1  3  0  0]\n",
      "TARGETS SEQUENCE LENGTH:\t 3\n",
      "TARGETS MASK:\t\t\t [ 1.  1.  1.  0.  0.]\n",
      "\n",
      "SAMPLE 1\n",
      "TEXT INPUTS:\t\t\t nine three four two\n",
      "ENCODED INPUTS:\t\t\t [16 14 16 24 21 18 19 25 24 24 21 17 11 26 25 21 18 20 11]\n",
      "INPUTS SEQUENCE LENGTH:\t\t 19\n",
      "TEXT TARGETS OUTPUT:\t\t 9342#\n",
      "TEXT TARGETS INPUT:\t\t #9342\n",
      "ENCODED TARGETS OUTPUT:\t\t [ 9  3  4  2 10]\n",
      "ENCODED TARGETS INPUT:\t\t [10  9  3  4  2]\n",
      "TARGETS SEQUENCE LENGTH:\t 5\n",
      "TARGETS MASK:\t\t\t [ 1.  1.  1.  1.  1.]\n",
      "\n",
      "SAMPLE 2\n",
      "TEXT INPUTS:\t\t\t one five\n",
      "ENCODED INPUTS:\t\t\t [11 16 24 21 17 14 15 24  0  0  0  0  0  0  0  0  0  0  0]\n",
      "INPUTS SEQUENCE LENGTH:\t\t 8\n",
      "TEXT TARGETS OUTPUT:\t\t 15#\n",
      "TEXT TARGETS INPUT:\t\t #15\n",
      "ENCODED TARGETS OUTPUT:\t\t [ 1  5 10  0  0]\n",
      "ENCODED TARGETS INPUT:\t\t [10  1  5  0  0]\n",
      "TARGETS SEQUENCE LENGTH:\t 3\n",
      "TARGETS MASK:\t\t\t [ 1.  1.  1.  0.  0.]\n"
     ]
    }
   ],
   "source": [
    "batch_size = 3\n",
    "inputs, inputs_seqlen, targets_in, targets_out, targets_seqlen, targets_mask, \\\n",
    "text_inputs, text_targets_in, text_targets_out = \\\n",
    "    get_batch(batch_size=batch_size, max_digits=4, min_digits=2)\n",
    "\n",
    "print(\"input types:\", inputs.dtype, inputs_seqlen.dtype, targets_in.dtype, targets_out.dtype, targets_seqlen.dtype)\n",
    "print_valid_characters()\n",
    "print(\"Stop/start character = #\")\n",
    "\n",
    "for i in range(batch_size):\n",
    "    print(\"\\nSAMPLE\",i)\n",
    "    print(\"TEXT INPUTS:\\t\\t\\t\", text_inputs[i])\n",
    "    print(\"ENCODED INPUTS:\\t\\t\\t\", inputs[i])\n",
    "    print(\"INPUTS SEQUENCE LENGTH:\\t\\t\", inputs_seqlen[i])\n",
    "    print(\"TEXT TARGETS OUTPUT:\\t\\t\", text_targets_out[i])\n",
    "    print(\"TEXT TARGETS INPUT:\\t\\t\", text_targets_in[i])\n",
    "    print(\"ENCODED TARGETS OUTPUT:\\t\\t\", targets_out[i])\n",
    "    print(\"ENCODED TARGETS INPUT:\\t\\t\", targets_in[i])\n",
    "    print(\"TARGETS SEQUENCE LENGTH:\\t\", targets_seqlen[i])\n",
    "    print(\"TARGETS MASK:\\t\\t\\t\", targets_mask[i])"
   ]
  },
  {
   "cell_type": "markdown",
   "metadata": {},
   "source": [
    "### Encoder-Decoder model setup\n",
    "Below is the TensorFlow model definition. We use an embedding layer to go from integer representation to vector representation of the input.\n",
    "\n",
    "TensorFlow has implementations of LSTM and GRU units.\n",
    "Both implementations assume that the input from the tensor below has the shape **`[batch_size, max_time, input_size]`**, (unless you have `time_major=True`, in which case it is `[max_time, batch_size, input_size]`).\n",
    "\n",
    "Note that we have made use of a custom decoder wrapper which can be found in `tf_utils.py`."
   ]
  },
  {
   "cell_type": "code",
   "execution_count": 5,
   "metadata": {
    "collapsed": true
   },
   "outputs": [],
   "source": [
    "# resetting the graph\n",
    "tf.reset_default_graph()\n",
    "\n",
    "# Setting up hyperparameters and general configs\n",
    "MAX_DIGITS = 10\n",
    "MIN_DIGITS = 5\n",
    "NUM_INPUTS = 27\n",
    "NUM_OUTPUTS = 11 #(0-9 + '#')\n",
    "\n",
    "BATCH_SIZE = 16\n",
    "# try various learning rates 1e-2 to 1e-5\n",
    "LEARNING_RATE = 0.005\n",
    "X_EMBEDDINGS = 8\n",
    "t_EMBEDDINGS = 8\n",
    "NUM_UNITS_ENC = 16\n",
    "NUM_UNITS_DEC = 16\n",
    "\n",
    "# Setting up placeholders, these are the tensors that we \"feed\" to our network\n",
    "# Data input\n",
    "Xs = tf.placeholder(tf.int32, shape=[None, None], name='X_input')\n",
    "# Target sequence input (for teacher forcing)\n",
    "ts_in = tf.placeholder(tf.int32, shape=[None, None], name='t_input_in')\n",
    "# Target sequence output for computing the error signal\n",
    "ts_out = tf.placeholder(tf.int32, shape=[None, None], name='t_input_out')\n",
    "# Lenth of the input sequence i.e. number of letters\n",
    "X_len = tf.placeholder(tf.int32, shape=[None], name='X_len')\n",
    "# Lenth of the target sequence i.e. number of numbers to output\n",
    "t_len = tf.placeholder(tf.int32, shape=[None], name='X_len')\n",
    "# Mask used for training to remove the gradients on the predictions after the EOF\n",
    "t_mask = tf.placeholder(tf.float32, shape=[None, None], name='t_mask')\n",
    "\n",
    "### Building the model\n",
    "# first we build the embeddings to make our characters into dense, trainable vectors\n",
    "X_embeddings = tf.get_variable('X_embeddings', [NUM_INPUTS, X_EMBEDDINGS],\n",
    "                               initializer=tf.random_normal_initializer(stddev=0.1))\n",
    "t_embeddings = tf.get_variable('t_embeddings', [NUM_OUTPUTS, t_EMBEDDINGS],\n",
    "                               initializer=tf.random_normal_initializer(stddev=0.1))\n",
    "\n",
    "X_embedded = tf.gather(X_embeddings, Xs, name='embed_X')\n",
    "t_embedded = tf.gather(t_embeddings, ts_in, name='embed_t')\n",
    "\n",
    "\n",
    "## forward encoding\n",
    "enc_cell = tf.nn.rnn_cell.GRUCell(NUM_UNITS_ENC)\n",
    "_, enc_state = tf.nn.dynamic_rnn(cell=enc_cell, inputs=X_embedded,\n",
    "                                 sequence_length=X_len, dtype=tf.float32)\n",
    "# use below incase TF's makes issues\n",
    "# enc_state, _ = tf_utils.encoder(X_embedded, X_len, 'encoder', NUM_UNITS_ENC)\n",
    "#\n",
    "# enc_state = tf.concat(1, [enc_state, enc_state])\n",
    "\n",
    "## decoding\n",
    "# note that we are using a wrapper for decoding here, this wrapper is hardcoded to only use GRU\n",
    "# check out tf_utils to see how you make your own decoder\n",
    "\n",
    "# setting up weights for computing the final output\n",
    "W_out = tf.get_variable('W_out', [NUM_UNITS_DEC, NUM_OUTPUTS])\n",
    "b_out = tf.get_variable('b_out', [NUM_OUTPUTS])\n",
    "\n",
    "dec_out, valid_dec_out = tf_utils.decoder(enc_state, t_embedded, t_len, \n",
    "                                          NUM_UNITS_DEC, t_embeddings,\n",
    "                                          W_out, b_out)\n",
    "\n",
    "## reshaping to have [batch_size*seqlen, num_units]\n",
    "out_tensor = tf.reshape(dec_out, [-1, NUM_UNITS_DEC])\n",
    "valid_out_tensor = tf.reshape(valid_dec_out, [-1, NUM_UNITS_DEC])\n",
    "# computing output\n",
    "out_tensor = tf.matmul(out_tensor, W_out) + b_out\n",
    "valid_out_tensor = tf.matmul(valid_out_tensor, W_out) + b_out\n",
    "\n",
    "## reshaping back to sequence\n",
    "# print('X_len', tf.shape(X_len)[0])\n",
    "b_size = tf.shape(X_len)[0] # use a variable we know has batch_size in [0]\n",
    "seq_len = tf.shape(t_embedded)[1] # variable we know has sequence length in [1]\n",
    "num_out = tf.constant(NUM_OUTPUTS) # casting NUM_OUTPUTS to a tensor variable\n",
    "out_shape = tf.concat([tf.expand_dims(b_size, 0),\n",
    "                      tf.expand_dims(seq_len, 0),\n",
    "                      tf.expand_dims(num_out, 0)],\n",
    "                     axis=0)\n",
    "\n",
    "out_tensor = tf.reshape(out_tensor, out_shape)\n",
    "valid_out_tensor = tf.reshape(valid_out_tensor, out_shape)\n",
    "# handling shape loss\n",
    "#out_tensor.set_shape([None, None, NUM_OUTPUTS])\n",
    "y = out_tensor\n",
    "y_valid = valid_out_tensor"
   ]
  },
  {
   "cell_type": "code",
   "execution_count": 6,
   "metadata": {},
   "outputs": [
    {
     "name": "stdout",
     "output_type": "stream",
     "text": [
      "X_embeddings:0                           (27, 8)\n",
      "t_embeddings:0                           (11, 8)\n",
      "rnn/gru_cell/gates/kernel:0              (24, 32)\n",
      "rnn/gru_cell/gates/bias:0                (32,)\n",
      "rnn/gru_cell/candidate/kernel:0          (24, 16)\n",
      "rnn/gru_cell/candidate/bias:0            (16,)\n",
      "W_out:0                                  (16, 11)\n",
      "b_out:0                                  (11,)\n",
      "decoder/W_z_x:0                          (8, 16)\n",
      "decoder/W_z_h:0                          (16, 16)\n",
      "decoder/b_z:0                            (16,)\n",
      "decoder/W_r_x:0                          (8, 16)\n",
      "decoder/W_r_h:0                          (16, 16)\n",
      "decoder/b_r:0                            (16,)\n",
      "decoder/W_c_x:0                          (8, 16)\n",
      "decoder/W_c_h:0                          (16, 16)\n",
      "decoder/b_h:0                            (16,)\n"
     ]
    }
   ],
   "source": [
    "# print all the variable names and shapes\n",
    "for var in tf.global_variables ():\n",
    "    s = var.name + \" \"*(40-len(var.name))\n",
    "    print(s, var.value().get_shape())"
   ]
  },
  {
   "cell_type": "markdown",
   "metadata": {},
   "source": [
    "### Defining the cost function, gradient clipping and accuracy\n",
    "Because the targets are categorical we use the cross entropy error.\n",
    "As the data is sequential we use the sequence to sequence cross entropy supplied in `tf_utils.py`.\n",
    "We use the Adam optimizer but you can experiment with the different optimizers implemented in [TensorFlow](https://www.tensorflow.org/api_docs/python/tf/train/Optimizer)."
   ]
  },
  {
   "cell_type": "code",
   "execution_count": 7,
   "metadata": {
    "collapsed": true
   },
   "outputs": [],
   "source": [
    "def loss_and_acc(preds):\n",
    "    # sequence_loss_tensor is a modification of TensorFlow's own sequence_to_sequence_loss\n",
    "    # TensorFlow's seq2seq loss works with a 2D list instead of a 3D tensors\n",
    "    loss = tf_utils.sequence_loss_tensor(preds, ts_out, t_mask, NUM_OUTPUTS) # notice that we use ts_out here!\n",
    "\n",
    "    ## if you want regularization\n",
    "    #reg_scale = 0.00001\n",
    "    #regularize = tf.contrib.layers.l2_regularizer(reg_scale)\n",
    "    #params = tf.get_collection(tf.GraphKeys.TRAINABLE_VARIABLES)\n",
    "    #reg_term = sum([regularize(param) for param in params])\n",
    "    #loss += reg_term\n",
    "    \n",
    "    ## calculate accuracy\n",
    "    argmax = tf.to_int32(tf.argmax(preds, 2))\n",
    "    correct = tf.to_float(tf.equal(argmax, ts_out)) * t_mask\n",
    "    accuracy = tf.reduce_sum(correct) / tf.reduce_sum(t_mask)\n",
    "    return loss, accuracy, argmax\n",
    "\n",
    "loss, accuracy, predictions = loss_and_acc(y)\n",
    "loss_valid, accuracy_valid, predictions_valid = loss_and_acc(y_valid)\n",
    "\n",
    "# use lobal step to keep track of our iterations\n",
    "global_step = tf.Variable(0, name='global_step', trainable=False)\n",
    "\n",
    "# pick optimizer, try momentum or adadelta\n",
    "optimizer = tf.train.AdamOptimizer(LEARNING_RATE)\n",
    "\n",
    "# extract gradients for each variable\n",
    "grads_and_vars = optimizer.compute_gradients(loss)\n",
    "\n",
    "## add below for clipping by norm\n",
    "# gradients, variables = zip(*grads_and_vars)  # unzip list of tuples\n",
    "# clipped_gradients, global_norm = (\n",
    "#    tf.clip_by_global_norm(gradients, self.clip_norm) )\n",
    "# grads_and_vars = zip(clipped_gradients, variables)\n",
    "# apply gradients and make trainable function\n",
    "train_op = optimizer.apply_gradients(grads_and_vars, global_step=global_step)"
   ]
  },
  {
   "cell_type": "code",
   "execution_count": 8,
   "metadata": {},
   "outputs": [
    {
     "name": "stdout",
     "output_type": "stream",
     "text": [
      "WARNING:tensorflow:From <ipython-input-8-3a13120a4a03>:3: all_variables (from tensorflow.python.ops.variables) is deprecated and will be removed after 2017-03-02.\n",
      "Instructions for updating:\n",
      "Please use tf.global_variables instead.\n",
      "X_embeddings:0                           (27, 8)\n",
      "t_embeddings:0                           (11, 8)\n",
      "rnn/gru_cell/gates/kernel:0              (24, 32)\n",
      "rnn/gru_cell/gates/bias:0                (32,)\n",
      "rnn/gru_cell/candidate/kernel:0          (24, 16)\n",
      "rnn/gru_cell/candidate/bias:0            (16,)\n",
      "W_out:0                                  (16, 11)\n",
      "b_out:0                                  (11,)\n",
      "decoder/W_z_x:0                          (8, 16)\n",
      "decoder/W_z_h:0                          (16, 16)\n",
      "decoder/b_z:0                            (16,)\n",
      "decoder/W_r_x:0                          (8, 16)\n",
      "decoder/W_r_h:0                          (16, 16)\n",
      "decoder/b_r:0                            (16,)\n",
      "decoder/W_c_x:0                          (8, 16)\n",
      "decoder/W_c_h:0                          (16, 16)\n",
      "decoder/b_h:0                            (16,)\n",
      "global_step:0                            ()\n",
      "beta1_power:0                            ()\n",
      "beta2_power:0                            ()\n",
      "X_embeddings/Adam:0                      (27, 8)\n",
      "X_embeddings/Adam_1:0                    (27, 8)\n",
      "t_embeddings/Adam:0                      (11, 8)\n",
      "t_embeddings/Adam_1:0                    (11, 8)\n",
      "rnn/gru_cell/gates/kernel/Adam:0         (24, 32)\n",
      "rnn/gru_cell/gates/kernel/Adam_1:0       (24, 32)\n",
      "rnn/gru_cell/gates/bias/Adam:0           (32,)\n",
      "rnn/gru_cell/gates/bias/Adam_1:0         (32,)\n",
      "rnn/gru_cell/candidate/kernel/Adam:0     (24, 16)\n",
      "rnn/gru_cell/candidate/kernel/Adam_1:0   (24, 16)\n",
      "rnn/gru_cell/candidate/bias/Adam:0       (16,)\n",
      "rnn/gru_cell/candidate/bias/Adam_1:0     (16,)\n",
      "W_out/Adam:0                             (16, 11)\n",
      "W_out/Adam_1:0                           (16, 11)\n",
      "b_out/Adam:0                             (11,)\n",
      "b_out/Adam_1:0                           (11,)\n",
      "decoder/W_z_x/Adam:0                     (8, 16)\n",
      "decoder/W_z_x/Adam_1:0                   (8, 16)\n",
      "decoder/W_z_h/Adam:0                     (16, 16)\n",
      "decoder/W_z_h/Adam_1:0                   (16, 16)\n",
      "decoder/b_z/Adam:0                       (16,)\n",
      "decoder/b_z/Adam_1:0                     (16,)\n",
      "decoder/W_r_x/Adam:0                     (8, 16)\n",
      "decoder/W_r_x/Adam_1:0                   (8, 16)\n",
      "decoder/W_r_h/Adam:0                     (16, 16)\n",
      "decoder/W_r_h/Adam_1:0                   (16, 16)\n",
      "decoder/b_r/Adam:0                       (16,)\n",
      "decoder/b_r/Adam_1:0                     (16,)\n",
      "decoder/W_c_x/Adam:0                     (8, 16)\n",
      "decoder/W_c_x/Adam_1:0                   (8, 16)\n",
      "decoder/W_c_h/Adam:0                     (16, 16)\n",
      "decoder/W_c_h/Adam_1:0                   (16, 16)\n",
      "decoder/b_h/Adam:0                       (16,)\n",
      "decoder/b_h/Adam_1:0                     (16,)\n"
     ]
    }
   ],
   "source": [
    "# print all the variable names and shapes\n",
    "# notice that we now have the optimizer Adam as well!\n",
    "for var in tf.all_variables():\n",
    "    s = var.name + \" \"*(40-len(var.name))\n",
    "    print(s, var.value().get_shape())"
   ]
  },
  {
   "cell_type": "markdown",
   "metadata": {},
   "source": [
    "### Testing the forward pass"
   ]
  },
  {
   "cell_type": "code",
   "execution_count": 9,
   "metadata": {},
   "outputs": [
    {
     "name": "stdout",
     "output_type": "stream",
     "text": [
      "INFO:tensorflow:Restoring parameters from /save/model.ckpt\n",
      "Model not found, new parameters initialized\n"
     ]
    }
   ],
   "source": [
    "## Start the session\n",
    "# restricting memory usage, TensorFlow is greedy and will use all memory otherwise\n",
    "gpu_opts = tf.GPUOptions(per_process_gpu_memory_fraction=0.60)\n",
    "sess = tf.Session(config=tf.ConfigProto(gpu_options=gpu_opts))\n",
    "\n",
    "# Initialize parameters\n",
    "if load_model:\n",
    "    try:\n",
    "        tf.train.Saver().restore(sess, \"/save/model.ckpt\")\n",
    "    except:\n",
    "        sess.run(tf.global_variables_initializer())\n",
    "        print('Model not found, new parameters initialized')\n",
    "else:\n",
    "    sess.run(tf.global_variables_initializer())"
   ]
  },
  {
   "cell_type": "code",
   "execution_count": 10,
   "metadata": {},
   "outputs": [
    {
     "name": "stdout",
     "output_type": "stream",
     "text": [
      "\n",
      "SAMPLE 0\n",
      "TEXT INPUTS:\t\t\t one three\n",
      "TEXT TARGETS INPUT:\t\t #13\n",
      "\n",
      "SAMPLE 1\n",
      "TEXT INPUTS:\t\t\t nine three four two\n",
      "TEXT TARGETS INPUT:\t\t #9342\n",
      "\n",
      "SAMPLE 2\n",
      "TEXT INPUTS:\t\t\t one five\n",
      "TEXT TARGETS INPUT:\t\t #15\n",
      "y (3, 5, 11)\n",
      "y_valid (3, 5, 11)\n"
     ]
    }
   ],
   "source": [
    "# as always, test the forward pass and initialize the tf.Session!\n",
    "for i in range(batch_size):\n",
    "    print(\"\\nSAMPLE\",i)\n",
    "    print(\"TEXT INPUTS:\\t\\t\\t\", text_inputs[i])\n",
    "    print(\"TEXT TARGETS INPUT:\\t\\t\", text_targets_in[i])\n",
    "\n",
    "feed_dict = {Xs: inputs, X_len: inputs_seqlen, ts_in: targets_in,\n",
    "             ts_out: targets_out, t_len: targets_seqlen}\n",
    "\n",
    "# test training forwardpass\n",
    "fetches = [y]\n",
    "res = sess.run(fetches=fetches, feed_dict=feed_dict)\n",
    "print(\"y\", res[0].shape)\n",
    "\n",
    "# test validation forwardpass\n",
    "fetches = [y_valid]\n",
    "res = sess.run(fetches=fetches, feed_dict=feed_dict)\n",
    "print(\"y_valid\", res[0].shape)"
   ]
  },
  {
   "cell_type": "code",
   "execution_count": 11,
   "metadata": {},
   "outputs": [
    {
     "name": "stdout",
     "output_type": "stream",
     "text": [
      "X_val (5000, 57)\n",
      "t_out_val (5000, 11)\n"
     ]
    }
   ],
   "source": [
    "#Generate some validation data\n",
    "X_val, X_len_val, t_in_val, t_out_val, t_len_val, t_mask_val, \\\n",
    "text_inputs_val, text_targets_in_val, text_targets_out_val = \\\n",
    "    get_batch(batch_size=5000, max_digits=MAX_DIGITS, min_digits=MIN_DIGITS)\n",
    "print(\"X_val\", X_val.shape)\n",
    "print(\"t_out_val\", t_out_val.shape)"
   ]
  },
  {
   "cell_type": "markdown",
   "metadata": {},
   "source": [
    "# Training\n",
    "\n",
    "Training RNN can take a while, especially if you are running it on your laptop.\n",
    "We won't train the model to completion, as the trends we are interested in can be seen earlier.\n",
    "If training takes to long feel free to stop it even earlier by interrupting the kernel."
   ]
  },
  {
   "cell_type": "code",
   "execution_count": 12,
   "metadata": {
    "scrolled": false
   },
   "outputs": [
    {
     "name": "stdout",
     "output_type": "stream",
     "text": [
      "Done\n",
      "Wall time: 9min 22s\n"
     ]
    },
    {
     "data": {
      "image/png": "[encoded data removed]",
      "text/plain": [
       "<matplotlib.figure.Figure at 0x21dfd5a8630>"
      ]
     },
     "metadata": {},
     "output_type": "display_data"
    }
   ],
   "source": [
    "%%time\n",
    "## If you get an error, remove this line! It makes the error message hard to understand.\n",
    "\n",
    "# setting up running parameters\n",
    "val_interval = 5000\n",
    "samples_to_process = 2e5\n",
    "samples_processed = 0\n",
    "samples_val = []\n",
    "costs, accs_val = [], []\n",
    "plt.figure()\n",
    "try:\n",
    "    while samples_processed < samples_to_process:\n",
    "        # load data\n",
    "        X_tr, X_len_tr, t_in_tr, t_out_tr, t_len_tr, t_mask_tr, \\\n",
    "        text_inputs_tr, text_targets_in_tr, text_targets_out_tr = \\\n",
    "            get_batch(batch_size=BATCH_SIZE,max_digits=MAX_DIGITS,min_digits=MIN_DIGITS)\n",
    "        # make fetches\n",
    "        fetches_tr = [train_op, loss, accuracy]\n",
    "        # set up feed dict\n",
    "        feed_dict_tr = {Xs: X_tr, X_len: X_len_tr, ts_in: t_in_tr,\n",
    "             ts_out: t_out_tr, t_len: t_len_tr, t_mask: t_mask_tr}\n",
    "        # run the model\n",
    "        res = tuple(sess.run(fetches=fetches_tr, feed_dict=feed_dict_tr))\n",
    "        _, batch_cost, batch_acc = res\n",
    "        costs += [batch_cost]\n",
    "        samples_processed += BATCH_SIZE\n",
    "        #if samples_processed % 1000 == 0: print(batch_cost, batch_acc)\n",
    "        #validation data\n",
    "        if samples_processed % val_interval == 0:\n",
    "            #print(\"validating\")\n",
    "            fetches_val = [accuracy_valid, y_valid]\n",
    "            feed_dict_val = {Xs: X_val, X_len: X_len_val, ts_in: t_in_val,\n",
    "             ts_out: t_out_val, t_len: t_len_val, t_mask: t_mask_val}\n",
    "            res = tuple(sess.run(fetches=fetches_val, feed_dict=feed_dict_val))\n",
    "            acc_val, output_val = res\n",
    "            samples_val += [samples_processed]\n",
    "            accs_val += [acc_val]\n",
    "            plt.plot(samples_val, accs_val, 'g-')\n",
    "            plt.ylabel('Validation Accuracy', fontsize=15)\n",
    "            plt.xlabel('Processed samples', fontsize=15)\n",
    "            plt.title('', fontsize=20)\n",
    "            plt.grid('on')\n",
    "            plt.savefig(\"out.png\")\n",
    "            display.display(display.Image(filename=\"out.png\"))\n",
    "            display.clear_output(wait=True)\n",
    "except KeyboardInterrupt:\n",
    "    pass\n",
    "\n",
    "print('Done')"
   ]
  },
  {
   "cell_type": "code",
   "execution_count": 13,
   "metadata": {
    "scrolled": false
   },
   "outputs": [
    {
     "data": {
      "image/png": "[encoded data removed]",
      "text/plain": [
       "<matplotlib.figure.Figure at 0x21dfd845320>"
      ]
     },
     "metadata": {},
     "output_type": "display_data"
    }
   ],
   "source": [
    "#plot of validation accuracy for each target position\n",
    "plt.figure(figsize=(7,7))\n",
    "masked_output_val = np.ma.array(np.argmax(output_val,axis=2)==t_out_val, mask=1-t_mask_val)\n",
    "plt.plot(np.ma.mean(masked_output_val, axis=0))\n",
    "plt.ylabel('Accuracy', fontsize=15)\n",
    "plt.xlabel('Target position', fontsize=15)\n",
    "#plt.title('', fontsize=20)\n",
    "plt.grid('on')\n",
    "plt.show()\n",
    "#why do the plot look like this?"
   ]
  },
  {
   "cell_type": "markdown",
   "metadata": {},
   "source": [
    "Target position is the position of your target in the sequence.\n",
    "We then have that the accuracy of each target is a function of its position."
   ]
  },
  {
   "cell_type": "code",
   "execution_count": 14,
   "metadata": {},
   "outputs": [
    {
     "name": "stdout",
     "output_type": "stream",
     "text": [
      "Model saved in file: /tmp/model.ckpt\n"
     ]
    }
   ],
   "source": [
    "## Save model\n",
    "# Read more about saving and loading models at https://www.tensorflow.org/programmers_guide/saved_model\n",
    "\n",
    "# Save model\n",
    "save_path = tf.train.Saver().save(sess, \"/tmp/model.ckpt\")\n",
    "print(\"Model saved in file: %s\" % save_path)"
   ]
  },
  {
   "cell_type": "code",
   "execution_count": 15,
   "metadata": {
    "collapsed": true
   },
   "outputs": [],
   "source": [
    "## Close the session, and free the resources\n",
    "sess.close()"
   ]
  },
  {
   "cell_type": "markdown",
   "metadata": {},
   "source": [
    "# Exercises:\n"
   ]
  },
  {
   "cell_type": "markdown",
   "metadata": {},
   "source": [
    "### Exercise 1)\n",
    "1. What is the final validation performance? \n",
    "1. Why do you think it is not better?\n",
    "1. Comment on the accuracy for each position in of the output symbols?\n",
    "\n",
    "___\n",
    "Answer:\n"
   ]
  },
  {
   "cell_type": "markdown",
   "metadata": {},
   "source": [
    "#### Exercise 1.1)"
   ]
  },
  {
   "cell_type": "markdown",
   "metadata": {},
   "source": [
    "<font color='blue'>The final validation performance is around 63%. \n",
    "This may also be computed by taking the average of the accuracy at each target position.</font>"
   ]
  },
  {
   "cell_type": "markdown",
   "metadata": {},
   "source": [
    "#### Exercise 1.2)"
   ]
  },
  {
   "cell_type": "markdown",
   "metadata": {},
   "source": [
    "<font color='blue'>Because we stopped training early.\n",
    "When we stop training, there is still a general trend towards a higher validation accuracy.\n",
    "</font> "
   ]
  },
  {
   "cell_type": "markdown",
   "metadata": {},
   "source": [
    "#### Exercise 1.3)"
   ]
  },
  {
   "cell_type": "markdown",
   "metadata": {},
   "source": [
    "<font color='blue'>The target position accuracy describes the accuracy specifically for different positions at the output.\n",
    "It makes sence that the further we go out, the harder it becomes to make correct predictions, since there are more possible sequences.\n",
    "The accuracy increases again at the end.\n",
    "The increased performance on the 9th and 10th index positions are because every sequence ends with an EOS character, making it very easy to predict on the last two elements in the sequence.</font> "
   ]
  },
  {
   "cell_type": "markdown",
   "metadata": {},
   "source": [
    "### Exercise 2)\n",
    "The model has two GRU networks. The ```GRUEncoder``` and the ```GRUDecoder```.\n",
    "A GRU is parameterized by a update gate $u$, a  reset gate $r$, the cell $c$, and the hidden state $h$:\n",
    "\n",
    "![](images/GRUeq.png)\n",
    "*Equations as described in the [Lasagne GRU documentation](http://lasagne.readthedocs.io/en/latest/modules/layers/recurrent.html#lasagne.layers.GRULayer).*\n",
    "\n",
    "**Note** that the notation in the implementation (`tf_utils.py`) $z$ is used instead of $u$.\n",
    "\n",
    "Under normal circumstances, such as in the TensorFlow GRUCell implementation, these gates have been stacked for faster computation, but in the custom decoder each weight and bias are as described in the original [article for GRU](https://arxiv.org/abs/1406.1078).\n",
    " 1. Try to explain the shape of $W_{xr}$ and $W_{hr}$.\n",
    " 1. Why are they different? \n",
    "\n",
    "___\n",
    "Answer:"
   ]
  },
  {
   "cell_type": "markdown",
   "metadata": {},
   "source": [
    "#### Exercise 2.1)"
   ]
  },
  {
   "cell_type": "markdown",
   "metadata": {},
   "source": [
    "<font color='blue'>We use the following for the shapes (printed previously)</font> \n",
    "\n",
    "```\n",
    "X_embeddings:0                           (27, 8)\n",
    "t_embeddings:0                           (11, 8)\n",
    "rnn/gru_cell/gates/kernel:0              (24, 32)\n",
    "rnn/gru_cell/gates/bias:0                (32,)\n",
    "rnn/gru_cell/candidate/kernel:0          (24, 16)\n",
    "rnn/gru_cell/candidate/bias:0            (16,)\n",
    "W_out:0                                  (16, 11)\n",
    "b_out:0                                  (11,)\n",
    "decoder/W_z_x:0                          (8, 16)\n",
    "decoder/W_z_h:0                          (16, 16)\n",
    "decoder/b_z:0                            (16,)\n",
    "decoder/W_r_x:0                          (8, 16)\n",
    "decoder/W_r_h:0                          (16, 16)\n",
    "decoder/b_r:0                            (16,)\n",
    "decoder/W_c_x:0                          (8, 16)\n",
    "decoder/W_c_h:0                          (16, 16)\n",
    "decoder/b_h:0                            (16,)\n",
    "```\n",
    "<font color='blue'>We learn an embedding of the input, using just $x_t$, a vector of size $1 \\times 8$.\n",
    "This has to be multiplied with the weights, and since we have 16 units, we end up with $W_{xr}$ being a $8 \\times 16$ matrix.</font> \n",
    "\n",
    "<font color='blue'>The shape of $W_{hr}$ is $16 \\times 16$, such that it can be multiplied with $h_t$,having shape $1 \\times 16$.</font> "
   ]
  },
  {
   "cell_type": "markdown",
   "metadata": {},
   "source": [
    "#### Exercise 2.2)"
   ]
  },
  {
   "cell_type": "markdown",
   "metadata": {},
   "source": [
    "<font color='blue'>$W_{xr}$ and $W_{hr}$ are different, since $W_{hr}$ relates to the states $h$.\n",
    "Since we have 16 units, we always have to manage 16 states.\n",
    "This is the reason why $W_{xr}$ and $W_{hr}$ are different. \n",
    "$W_{xr}$ is used with $x_t$ and $W_{hr}$ is used with $h_t$.</font> "
   ]
  },
  {
   "cell_type": "markdown",
   "metadata": {},
   "source": [
    "### Exercise 3)\n",
    "The GRU-unit is able to ignore the input and just copy the previous hidden state.\n",
    "In the beginning of training this might be desireable behaviour because it helps the model learn long range dependencies.\n",
    "You can make the model ignore the input by modifying initial bias values.\n",
    "1. What bias would you modify and how would you modify it?\n",
    "\n",
    "Again you'll need to refer to the [GRU equations](http://lasagne.readthedocs.io/en/latest/modules/layers/recurrent.html#lasagne.layers.GRULayer)\n",
    "Further, if you look into `tf_utils.py` and search for the `decoder(...)` function, you will see that the init for each weight and bias can be changed.\n",
    "\n",
    "___\n",
    "Answer:\n",
    "\n"
   ]
  },
  {
   "cell_type": "markdown",
   "metadata": {},
   "source": [
    "#### Exercise 3.1)"
   ]
  },
  {
   "cell_type": "markdown",
   "metadata": {},
   "source": [
    "<font color='blue'>A GRU is parameterized by a update gate $u$, a  reset gate $r$, the cell $c$, and the hidden state $h$:</font> \n",
    "\n",
    "![](images/GRUeq.png)"
   ]
  },
  {
   "cell_type": "markdown",
   "metadata": {},
   "source": [
    "<font color='blue'>We have three different biases $b_r$, $b_u$ and $b_c$: r is for the reset gate, u is for the update, c is for the hidden update.</font> "
   ]
  },
  {
   "cell_type": "markdown",
   "metadata": {},
   "source": [
    "<font color='blue'>We need to get $h_t = h_{t-1}$.\n",
    "We therefore need $u_t$ to be zero, since if $u_t = 0$\n",
    "\\begin{equation}\n",
    "    h_t = (1-u_t) \\odot h_{t-1} + u_t \\odot c_t = h_{t-1}\n",
    "\\end{equation}</font> "
   ]
  },
  {
   "cell_type": "markdown",
   "metadata": {},
   "source": [
    "<font color='blue'>So $b_u$ should be very large (negative), driving the sigmoid to zero, thus making $u_t = 0.$</font> "
   ]
  },
  {
   "cell_type": "markdown",
   "metadata": {},
   "source": [
    "### Exercise 4)\n",
    "In the example we stack a softmax layer on top of a Recurrent layer. In the code snippet below explain how we can do that?\n",
    "___\n",
    "Answer:"
   ]
  },
  {
   "cell_type": "markdown",
   "metadata": {},
   "source": [
    "#### Exercise 4.1)"
   ]
  },
  {
   "cell_type": "markdown",
   "metadata": {},
   "source": [
    "<font color='blue'>I have inserted comments in the code to explain the different steps.</font>"
   ]
  },
  {
   "cell_type": "code",
   "execution_count": 15,
   "metadata": {},
   "outputs": [
    {
     "name": "stdout",
     "output_type": "stream",
     "text": [
      "l_input_\t (16, 140, 40)\n",
      "l_gru_\t\t (16, 140, 10)\n",
      "l_reshape_\t (2240, 10)\n",
      "l_softmax_\t (2240, 11)\n",
      "l_softmax_seq_\t (16, 140, 11)\n"
     ]
    }
   ],
   "source": [
    "tf.reset_default_graph()\n",
    "\n",
    "bs_, seqlen_, numinputs_ = 16, 140, 40 # Batch_size, Sequence_length, number_of_inputs\n",
    "x_pl_ = tf.placeholder(tf.float32, [bs_, seqlen_, numinputs_])\n",
    "gru_cell_ = tf.nn.rnn_cell.GRUCell(10) # Defines a RNN with 10 memory cells, giving the size of h_t\n",
    "l_gru_, gru_state_ = tf.nn.dynamic_rnn(gru_cell_, x_pl_, dtype=tf.float32) \n",
    "\n",
    "# We now reshape the RNN model, collapse for batch_size and sequence_length (16*140 = 2240),\n",
    "# but preserve the output dimension of 10.\n",
    "# This is necessary because the softmax operation has to be applied on each output neuron\n",
    "# but it only works on a one-dimensional vector\n",
    "\n",
    "l_reshape_ = tf.reshape(l_gru_, [-1, 10])\n",
    "l_softmax_ = tf.contrib.layers.fully_connected(l_reshape_, 11, activation_fn=tf.nn.softmax)\n",
    "\n",
    "# After applying the softmax, the output can be transformed back into the input dimensions, \n",
    "# however, we now have 11.\n",
    "# Thus, the sequential information is kept, even after collapsing the 3 dimensions into 2, \n",
    "# performing the softmax, and finally transforming back into 3 dimensions.\n",
    "\n",
    "l_softmax_seq_ = tf.reshape(l_softmax_, [bs_, seqlen_, -1])\n",
    "\n",
    "print(\"l_input_\\t\", x_pl_.get_shape())\n",
    "print(\"l_gru_\\t\\t\", l_gru_.get_shape())\n",
    "print(\"l_reshape_\\t\", l_reshape_.get_shape())\n",
    "print(\"l_softmax_\\t\", l_softmax_.get_shape())\n",
    "print(\"l_softmax_seq_\\t\", l_softmax_seq_.get_shape())"
   ]
  },
  {
   "cell_type": "markdown",
   "metadata": {},
   "source": [
    "## [Book Exercise](http://neuralnetworksanddeeplearning.com/chap1.html#exercise_513527)"
   ]
  },
  {
   "cell_type": "markdown",
   "metadata": {},
   "source": [
    "I have provided the link to the exercise in the heading. \n",
    "In the following, I will not write the text in blue since this is only the book exercise."
   ]
  },
  {
   "cell_type": "markdown",
   "metadata": {},
   "source": [
    "### Description"
   ]
  },
  {
   "cell_type": "markdown",
   "metadata": {},
   "source": [
    "There is a way of determining the bitwise representation of a digit by adding an extra layer to the three-layer network above. \n",
    "The extra layer converts the output from the previous layer into a binary representation, as illustrated in the figure below. \n",
    "Find a set of weights and biases for the new output layer. \n",
    "Assume that the first 3 layers of neurons are such that the correct output in the third layer (i.e., the old output layer) has activation at least 0.99, and incorrect outputs have activation less than 0.01."
   ]
  },
  {
   "cell_type": "markdown",
   "metadata": {},
   "source": [
    "### Solution"
   ]
  },
  {
   "cell_type": "markdown",
   "metadata": {},
   "source": [
    "Let us start by looking at what the activation in the current outputs should correspond to.\n",
    "The old layer activations correspond to a one-hot encoding, and we want to convert it to a binary representation."
   ]
  },
  {
   "cell_type": "markdown",
   "metadata": {
    "collapsed": true
   },
   "source": [
    "\n",
    "\n",
    "|Represent|  Old                   |  New     |\n",
    "|---------|------------------------|----------|\n",
    "|0        |  1 0 0 0 0 0 0 0 0 0   |  0 0 0 0 |\n",
    "|1        |  0 1 0 0 0 0 0 0 0 0   |  0 0 0 1 |\n",
    "|2        |  0 0 1 0 0 0 0 0 0 0   |  0 0 1 0 |\n",
    "|         |                        |          |\n",
    "|3        |  0 0 0 1 0 0 0 0 0 0   |  0 0 1 1 |\n",
    "|4        |  0 0 0 0 1 0 0 0 0 0   |  0 1 0 0 |\n",
    "|5        |  0 0 0 0 0 1 0 0 0 0   |  0 1 0 1 |\n",
    "|         |                        |          |\n",
    "|6        |  0 0 0 0 0 0 1 0 0 0   |  0 1 1 0 |\n",
    "|7        |  0 0 0 0 0 0 0 1 0 0   |  0 1 1 1 |\n",
    "|8        |  0 0 0 0 0 0 0 0 1 0   |  1 0 0 0 |\n",
    "|         |                        |          |\n",
    "|9        |  0 0 0 0 0 0 0 0 0 1   |  1 0 0 1 |"
   ]
  },
  {
   "cell_type": "markdown",
   "metadata": {},
   "source": [
    "To perform the conversion, each *new* output neuron should have a positive weight between itself and the neuron in the previous layer which corresponds to the binary number, and a negative weight between itself and the other neurons when it should be off.\n",
    "\n",
    "The values should combine to be large enough to switch the new output neurons on or off.\n",
    "So we can use weights of size 10 and -10.\n",
    "The bias is not really relevant, we simply saturate each neuron towards on or off, so we can set it to 0."
   ]
  },
  {
   "cell_type": "markdown",
   "metadata": {},
   "source": [
    "So let us take an example, we want to find the weights to represent 1.\n",
    "The weights from the second neuron in the previous layer to the last position in the new output layer should be.\n",
    "\n",
    "\\begin{align}\n",
    "    W_{3,0} &= -10 \\\\\n",
    "    W_{3,1} &= -10 \\\\\n",
    "    W_{3,2} &= -10 \\\\\n",
    "    W_{3,3} &= +10\n",
    "\\end{align}\n",
    "\n",
    "This ensures that when we see a 1 at the second position, the first three outputs are taken to 0 and the last is set to 1 due to the large weight.\n",
    "So from now on, whenever we see a 1 at this position, the network will give the binary representation of 1.\n",
    "\n",
    "Remember for this, that we assume the values from the previous layer is around 0.99, so all other outputs are very small."
   ]
  },
  {
   "cell_type": "markdown",
   "metadata": {},
   "source": [
    "I have plotted the sigmoid function below for reference.\n",
    "The previous layer will not give exactly 1 (assumed around 0.99), so we just need to select our weights such that we ensure that we end up in the saturated region."
   ]
  },
  {
   "cell_type": "code",
   "execution_count": 18,
   "metadata": {},
   "outputs": [
    {
     "data": {
      "text/plain": [
       "<matplotlib.legend.Legend at 0x21dfe9dd7b8>"
      ]
     },
     "execution_count": 18,
     "metadata": {},
     "output_type": "execute_result"
    },
    {
     "data": {
      "image/png": "[encoded data removed]",
      "text/plain": [
       "<matplotlib.figure.Figure at 0x21e8d0417b8>"
      ]
     },
     "metadata": {},
     "output_type": "display_data"
    }
   ],
   "source": [
    "sigmoid = lambda x: 1 / (1 + np.exp(-x))\n",
    "y=np.linspace(-10,10,100)\n",
    "plt.plot(y,sigmoid(y),'g', label = '$\\sigma(z)$')\n",
    "plt.grid()\n",
    "plt.xlabel('z')\n",
    "plt.ylabel('$\\sigma(z)$')\n",
    "plt.legend(loc='lower right')"
   ]
  }
 ],
 "metadata": {
  "anaconda-cloud": {},
  "kernelspec": {
   "display_name": "Python [conda env:tensorflow]",
   "language": "python",
   "name": "conda-env-tensorflow-py"
  },
  "language_info": {
   "codemirror_mode": {
    "name": "ipython",
    "version": 3
   },
   "file_extension": ".py",
   "mimetype": "text/x-python",
   "name": "python",
   "nbconvert_exporter": "python",
   "pygments_lexer": "ipython3",
   "version": "3.5.3"
  }
 },
 "nbformat": 4,
 "nbformat_minor": 1
}
