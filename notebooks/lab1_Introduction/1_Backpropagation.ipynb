{
 "cells": [
  {
   "cell_type": "markdown",
   "metadata": {},
   "source": [
    "# Backpropagation\n",
    "\n",
    "Backpropagation is the most fundamental algorithm on which all other concepts within deep learning relies. At first backpropagation may seem very complicated. However in its' essence, all it is, is a generalization of  can be the [chain-rule](https://en.wikipedia.org/wiki/Chain_rule).\n",
    "\n",
    "Recall that a neural network (parameterized by weights $W$) predicts a target given an input x i.e. $\\hat{y} = p(y|x,W)$. Training a neural network then corresponds to changing the weights $W$ such that the error $E$ between the predicted targets $\\hat{y}$ and the true targets $y$ is minimized. \n",
    "\n",
    "Neural Networks are usually trained using [gradient descent](https://en.wikipedia.org/wiki/Gradient_descent). Here we update $W_{ij}$ by going in the negative direction of $\\frac{\\partial E}{\\partial w_{ji}}$ with $\\alpha$ determining the step size.\n",
    "$$W_{ij} = W_{ij} - \\alpha\\frac{\\partial E}{\\partial w_{ji}}$$\n",
    "\n",
    "Backpropagation is simply an effective way to calculate the exact gradient of $E$ w.r.t to all the weights in the network.\n",
    "\n",
    "In practice backpropagation is done with linear algebra. However, showcasing the math behind backpropagation with abstract linear algebra hides the inherent simplicity of the algorithm. Because of this, we will in this notebook only deal with networks which has a single unit in each layer. If you want to dig deeper into how backpropagation handles matrixes of various sizes there are numerous sources online.\n",
    "\n",
    "Futhermore we will use [Mean Squared error (MSE)](https://en.wikipedia.org/wiki/Mean_squared_error) as our cost function and sigmoid functions as our [activation functions](https://en.wikipedia.org/wiki/Activation_function)."
   ]
  },
  {
   "cell_type": "markdown",
   "metadata": {},
   "source": [
    "# Forward pass / propagation\n",
    "\n",
    "In order to do backpropagation we first need to propagate the input through the network from its' input units to its' output units. This is called a forward pass or forward propagation. We need to do this both in order to calculate the error $E$ between our predictions $\\hat{y}$ and the actual targets $y$ and to have access the activations. \n",
    "\n",
    "If we break forward propagation into its' individual steps it is actually very simple. In each layer we take the input, multiply it by the weights and uses the result of this multiplication as the input to an acitvation function (Here the sigmoid function shown in the lower left corner of the animation). \n",
    "\n",
    "\n",
    "![forward propagation](images/forward_prop.gif)\n",
    "\n",
    "\n",
    "The animation might be a bit to fast at first, but if you view it a couple of times it should start to make sense. Otherwise we have included all the steps in a static form here:\n",
    "\n",
    "1) $ s_j = w_{in} \\cdot x_{i} $. \n",
    "\n",
    "2) $ z_j = \\sigma(w_{in} \\cdot x_i)$.\n",
    "\n",
    "3) $ s_k = w_{j} \\cdot z_j  $.\n",
    "\n",
    "4) $ z_k = \\sigma(w_j \\cdot \\sigma(w_{in} \\cdot x_i))$.\n",
    "\n",
    "5) $ s_o = w_{k} \\cdot z_k  $.\n",
    "\n",
    "6) $ z_o = s_o $.\n",
    "\n",
    "7) $\\hat{y}_i = w_k \\cdot \\sigma(w_j \\cdot \\sigma(w_{in} \\cdot x_{i}))$.\n",
    "\n",
    "Notice that the functions actually becomes longer and longer, as we get deeper into the network. This is because the later layers are strictly dependent on the former layers, this means that in layer $L_i$ we would in theory need to recalculate all operations from $L_0$ to $L_{i - 1}$. In modern networks this would require emense computational power, which is why we store the result of each operation in memory. This is important to remember, because it is the direct reason neural network has such a big memory requirement compared to other algorithms. "
   ]
  },
  {
   "cell_type": "code",
   "execution_count": 14,
   "metadata": {
    "collapsed": false
   },
   "outputs": [
    {
     "name": "stdout",
     "output_type": "stream",
     "text": [
      "z_j = correct\n",
      "z_k = correct\n",
      "z_o = correct\n",
      "y_hat = correct\n",
      "The network is correct!\n"
     ]
    }
   ],
   "source": [
    "import numpy as np\n",
    "\n",
    "\"\"\"\n",
    "Try to construct the forward propagation of the network above\n",
    "\"\"\"\n",
    "\n",
    "def sigmoid(x):                                        \n",
    "    return 1 / (1 + np.exp(-x))\n",
    "\n",
    "x_i = np.array([1]) # The input to the network (Don't touch)\n",
    "w_in = np.array([2]) # weight at first layer of the network (Don't touch)\n",
    "\n",
    "s_j = w_in * x_i          # correct this line\n",
    "z_j = sigmoid(s_j)          # correct this line\n",
    "w_j = np.array([5]) # weight at second layer of the network (Don't touch)\n",
    "print('z_j = correct' if '{0:0.4f}'.format(z_j[0]) == '0.8808' else \"z_j = incorrect\")\n",
    "\n",
    "s_k = w_j * z_j          # correct this line\n",
    "z_k = sigmoid(s_k)          # correct this line\n",
    "w_k = np.array([3]) # weight at final layer of the network (Don't touch)\n",
    "print('z_k = correct' if '{0:0.4f}'.format(z_k[0]) == '0.9879' else \"z_k = incorrect\")\n",
    "\n",
    "s_o = w_k * z_k          # correct this line\n",
    "z_o = s_o          # correct this line\n",
    "print('z_o = correct' if '{0:0.4f}'.format(z_o[0]) == '2.9638' else \"z_o = incorrect\")\n",
    "\n",
    "y_hat = z_o        # correct this line\n",
    "print('y_hat = correct' if '{0:0.4f}'.format(y_hat[0]) == '2.9638' else \"y_hat = incorrect\")\n",
    "\n",
    "y_i = np.array([3]) # The target we want the network to predict (Don't touch)\n",
    "error = (1/2) * ((y_hat - y_i)**2)         # correct this line\n",
    "\n",
    "print('The network is correct!' if '{0:0.4f}'.format(error[0]) == '0.0007' else \"The network is not correct\")"
   ]
  },
  {
   "cell_type": "markdown",
   "metadata": {},
   "source": [
    "After the forward pass, we have access to both the actual targets, and the predictions of the network. Because of this we can calculate the networks' error $E$, which we will do with MSE.\n",
    "$$E = \\frac{1}{2}(\\hat{y} - y)^2$$\n",
    "\n",
    "As noted before, we use backpropagation to figure out to which extend each weight contribute to the total error of the network. Therefore the error is the starting point of the algorithm."
   ]
  },
  {
   "cell_type": "markdown",
   "metadata": {},
   "source": [
    "Where forward propagation goes from the beginning of the network to its' end. Backpropagation goes from the end of the network and propagates through it until it reaches the input units (Hence its' name). At each layer it calculates the derivates of the weights using the chain rule combined with partial derivates. If you are not fully comfortable with the chain rule and/or partial derivatives, a great and gentle introduction can be found [here](https://www.youtube.com/watch?v=AXqhWeUEtQU&list=PLSQl0a2vh4HC5feHa6Rc5c0wbRTx56nF7&index=15).\n",
    "\n",
    "The amount of calculatations needed is quite big for even a toy network like ours. However, if you look closely it is almost the same procedure all through the network.\n",
    "\n",
    "![backpropagation](images/back_prop.png)"
   ]
  },
  {
   "cell_type": "code",
   "execution_count": 80,
   "metadata": {
    "collapsed": false
   },
   "outputs": [
    {
     "name": "stdout",
     "output_type": "stream",
     "text": [
      "C1 = incorrect\n",
      "C2 = incorrect\n",
      "C3 = incorrect\n",
      "partial_W_k = incorrect\n",
      "partial_W_j = incorrect\n",
      "partial_W_in = incorrect\n"
     ]
    }
   ],
   "source": [
    "\"\"\"\n",
    "Try to calculate the partial derivatives of the weights defined in last exercise. \n",
    "In order to do that you will need the variables used before since the partial derivatives relies on them\n",
    "\"\"\"\n",
    "\n",
    "def sigmoid_derivative(x):\n",
    "    return sigmoid(x) * (1 - sigmoid(x))\n",
    "\n",
    "# ***********************************************************************\n",
    "# First we calculate the cache values, used to reduce the computations  *\n",
    "# needed while doing back propagation                                   *\n",
    "# ***********************************************************************\n",
    "\n",
    "C1 = (y_hat - y_i)\n",
    "\n",
    "C2 = w_k * sigmoid_derivative(s_k)\n",
    "\n",
    "C3 = w_j * sigmoid_derivative(s_j)\n",
    "\n",
    "\n",
    "# ***********************************************************************\n",
    "# Then we do the actual calculations needed to find the gradient of     *\n",
    "# the weights                                                           *\n",
    "# ***********************************************************************\n",
    "\n",
    "partial_W_k  = C1 * z_k   # correct this line\n",
    "\n",
    "partial_W_j  = C1 * C2 * z_j   # correct this line\n",
    "\n",
    "partial_W_in = C1 * C2 * C3 * x_i  # correct this line\n",
    "\n",
    "\n",
    "# Print statements to help you get it right\n",
    "print('C1 = correct!' if '{0:0.4f}'.format(C1[0]) == '-0.0362' else \"C1 = incorrect\")\n",
    "print('C2 = correct!' if '{0:0.4f}'.format(C2[0]) == '0.0358' else \"C2 = incorrect\")\n",
    "print('C3 = correct!' if '{0:0.4f}'.format(C3[0]) == '0.5250' else \"C3 = incorrect\")\n",
    "\n",
    "print('partial_W_k = correct!' if '{0:0.4f}'.format(partial_W_k[0]) == '-0.0358' else \"partial_W_k = incorrect\")\n",
    "print('partial_W_j = correct!' if '{0:0.4f}'.format(partial_W_j[0]) == '-0.0011' else \"partial_W_j = incorrect\")\n",
    "print('partial_W_in = correct!' if '{0:0.6f}'.format(partial_W_in[0]) == '-0.000681' else \"partial_W_in = incorrect\")"
   ]
  },
  {
   "cell_type": "markdown",
   "metadata": {},
   "source": [
    "As we mentioned initially this might all seem quite complex. However, if you stare at the equations above long enough, you might begin to see a lot of redundancy.\n",
    "\n",
    "First of all it is easy to see that just like a layer is strictly dependent on all layers before it in forward propagation. It is strictly dependent on all layers after it in backpropagation. This means that doing back propagation in big networks is practically infeasable if we don't store the intemediate results dynamically while we propagate through the network (Here shown as the cache e.g. $C_1$ & $C_2$)."
   ]
  },
  {
   "cell_type": "markdown",
   "metadata": {
    "collapsed": true
   },
   "source": [
    "# Error signals\n",
    "\n",
    "The insight that we can treat each layer seperately is the foundation of all modern deep learning frameworks. It is nicely captured if we introduce a new symbol we call the error signal $\\delta$ (*delta*). The error signal is simply the accumulated error at each unit. \n",
    "\n",
    "Further more we can define a recursive error signal: \n",
    "\n",
    "$$ \\delta_j = \\frac{\\partial E}{\\partial s_j} $$\n",
    "\n",
    "In simply put, it is a measure of how much the network error varies with the input to unit $j$. Using the error signal has some nice properties. The most important one being that we can now write back propagation in a simpler and more compact form. \n",
    "\n",
    "Let's rewrite all the layers of our network using the error signal:\n",
    "\\begin{align}\n",
    "\\delta_k & = (\\hat{y}_i - y_i) \\cdot z_k \\\\\n",
    "\\delta_j & = \\delta_k \\cdot w_k \\cdot \\sigma(s_k)(1 - \\sigma(s_k)) \\cdot z_j \\\\\n",
    "\\delta_i & = \\delta_j \\cdot w_j \\cdot \\sigma(s_j)(1 - \\sigma(s_j)) \\cdot x_i\n",
    "\\end{align}\n",
    "\n",
    "It is not far from the original notation, but it lets us define the equation for each layer independent of the proceeding layers in a correct and simple manner. "
   ]
  },
  {
   "cell_type": "markdown",
   "metadata": {},
   "source": [
    "# Handling multiple inputs/outputs\n",
    "\n",
    "The final key to understanding backpropagation is to know how to handle multiple inputs/outpus. We would never have a network with just one unit in each layer. This means that all units in every layer will have multiple inputs and multiple output. \n",
    "\n",
    "Luckily for us, it is not very complicated to handle this functionality mathematically. To showcase this we define a new toy network which splits from one units to two and then back to one unit again.\n",
    "\n",
    "![split network](images/split_network.png)"
   ]
  },
  {
   "cell_type": "code",
   "execution_count": 79,
   "metadata": {
    "collapsed": false
   },
   "outputs": [
    {
     "name": "stdout",
     "output_type": "stream",
     "text": [
      "z_i = correct\n",
      "z_j = correct\n",
      "z_k = correct\n",
      "z_o = correct\n",
      "y_hat = correct\n",
      "The network is correct!\n"
     ]
    }
   ],
   "source": [
    "\"\"\"\n",
    "Try to construct the forward propagation of the splitted network above\n",
    "Remember that all inputs to a unit is simply summed in forward propagation\n",
    "\"\"\"\n",
    "\n",
    "x_i = np.array([1])  # The input to the network (Don't touch)\n",
    "w_in = np.array([2]) # weight at first layer of the network (Don't touch)\n",
    "\n",
    "s_i = w_in * x_i    # correct this line\n",
    "z_i = sigmoid(s_i)    # correct this line\n",
    "\n",
    "w_i_j = np.array([4]) # weight at second layer of the network (Don't touch)\n",
    "w_i_k = np.array([6]) # weight at second layer of the network (Don't touch)\n",
    "\n",
    "s_j = w_i_j * z_i    # correct this line\n",
    "z_j = sigmoid(s_j)    # correct this line\n",
    "w_j = np.array([5]) # weight at second layer of the network (Don't touch)\n",
    "\n",
    "s_k =  w_i_k * z_i     # correct this line\n",
    "z_k = sigmoid(s_k)    # correct this line\n",
    "w_k = np.array([3]) # weight at final layer of the network (Don't touch)\n",
    "\n",
    "s_o = (w_k * z_k) + (w_j * z_j)    # correct this line\n",
    "z_o = s_o   # correct this line\n",
    "\n",
    "y_hat = z_o  # correct this line\n",
    "\n",
    "\n",
    "y_i = np.array([8]) # The target we want the network to predict (Don't touch)\n",
    "\n",
    "error = (1/2) * ((y_hat - y_i) ** 2)   # correct this line\n",
    "\n",
    "# Print statements to help you get it right\n",
    "print('z_i = correct' if '{0:0.4f}'.format(z_i[0]) == '0.8808' else \"z_i = incorrect\")\n",
    "print('z_j = correct' if '{0:0.4f}'.format(z_j[0]) == '0.9713' else \"z_j = incorrect\")\n",
    "print('z_k = correct' if '{0:0.4f}'.format(z_k[0]) == '0.9950' else \"z_k = incorrect\")\n",
    "print('z_o = correct' if '{0:0.4f}'.format(z_o[0]) == '7.8416' else \"z_o = incorrect\")\n",
    "print('y_hat = correct' if '{0:0.4f}'.format(y_hat[0]) == '7.8416' else \"y_hat = incorrect\")\n",
    "print('The network is correct!' if '{0:0.4f}'.format(error[0]) == '0.0125' else \"The network is correct!\")"
   ]
  },
  {
   "cell_type": "markdown",
   "metadata": {},
   "source": [
    "## Multiple inputs\n",
    "\n",
    "Looking at the network above, it is clear we need to figure out how to split the the error signal into two when going from $o$ to $k$ and $j$. Finding the error signal for $o$ itself is rather simple, since it is the last unit in the network. \n",
    "\n",
    "$$ \\delta_o = (\\hat{y}_i - y_i) $$\n",
    "\n",
    "Luckily for us, it is also simple to split the error signal, since the two units is added together. Addition in neural networks can be seen as error signal distributors since it takes the error signal and distributes it to all the units in an even manner. This means that the error signal will be distributed to the two units in the following manner.\n",
    "\n",
    "$$ \\delta_j = \\delta_o \\cdot w_j \\cdot \\sigma(s_j)(1 - \\sigma(s_j))$$\n",
    "$$ \\delta_k = \\delta_o \\cdot w_k \\cdot \\sigma(s_k)(1 - \\sigma(s_k))$$\n",
    "\n",
    "Notice that $\\delta_o$ is included as it is in both units. This is important to remember why several arcitectures you will hear about later works so well (LSTMs, ResNets etc.). What these architectures have in common is that they try to integrate addition into the networks in order to distribute the error signal / gradient more freely. This tends to have a great impact on  the performance of the networks.\n",
    "\n",
    "\n",
    "## Multiple outputs\n",
    "\n",
    "Finally we need to look at what happens in the opposite situation. When a unit have multiple outputs, we simply sum the error signal from each output, just as we sum all inputs of a unit in forward propagation. The error signal for unit $i$ is thus:\n",
    "\n",
    "$$ \\delta_i = \\left(\\sum_{l \\in outs(i)} \\delta_l \\cdot w_l \\right) \\cdot \\sigma(s_i)(1 - \\sigma(s_i)) $$\n",
    "\n",
    "The last unit in the network is the same as the former network, but defined in terms of the error signal it is:\n",
    "\n",
    "$$ \\delta_{in} = \\delta_i \\cdot w_{in} \\cdot \\sigma(x_i)(1 - \\sigma(x_i))$$"
   ]
  },
  {
   "cell_type": "code",
   "execution_count": 78,
   "metadata": {
    "collapsed": false
   },
   "outputs": [
    {
     "name": "stdout",
     "output_type": "stream",
     "text": [
      "Deltas: \n",
      "delta_o correct!\n",
      "delta_j correct!\n",
      "delta_k correct!\n",
      "delta_i correct!\n",
      "delta_in correct!\n",
      "\n",
      "Gradients\n",
      "partial_W_j correct!\n",
      "partial_W_k correct!\n",
      "partial_W_i_j correct!\n",
      "partial_W_i_k correct!\n",
      "partial_W_in correct!\n"
     ]
    }
   ],
   "source": [
    "\"\"\"\n",
    "Try to calculate the partial derivatives of the weights in this new splitted network. \n",
    "\"\"\"\n",
    "\n",
    "delta_o = (y_hat - y_i)     # <------------------ correct this line\n",
    "\n",
    "delta_j = delta_o * w_j * sigmoid_derivative(s_j)    # <------------------ correct this line\n",
    "\n",
    "delta_k = delta_o * w_k * sigmoid_derivative(s_k)      # <------------------ correct this line\n",
    "\n",
    "delta_i = (delta_j * w_i_j) + (delta_k * w_i_k) * sigmoid_derivative(s_i)   # <------------------ correct this line\n",
    "\n",
    "delta_in = delta_i * w_in * sigmoid_derivative(x_i)    # <------------------ correct this line\n",
    "\n",
    "\n",
    "partial_W_j = delta_o * z_j     # <------------------ correct this line\n",
    "\n",
    "partial_W_k = delta_o * z_k    # <------------------ correct this line\n",
    "\n",
    "partial_W_i_j = delta_j * z_i   # <------------------ correct this line\n",
    "\n",
    "partial_W_i_k = delta_k * z_i   # <------------------ correct this line\n",
    "\n",
    "partial_W_in = delta_i * x_i   # <------------------ correct this line\n",
    "\n",
    "\n",
    "# Print statements to help you get it right\n",
    "print('Deltas: ')\n",
    "print('delta_o correct!' if '{0:0.4f}'.format(delta_o[0]) == '-0.1584' else \"delta_o incorrect\")\n",
    "print('delta_j correct!' if '{0:0.4f}'.format(delta_j[0]) == '-0.0221' else \"delta_j incorrect\")\n",
    "print('delta_k correct!' if '{0:0.4f}'.format(delta_k[0]) == '-0.0024' else \"delta_k incorrect\")\n",
    "print('delta_i correct!' if '{0:0.4f}'.format(delta_i[0]) == '-0.0897' else \"delta_i incorrect\")\n",
    "print('delta_in correct!' if '{0:0.4f}'.format(delta_in[0]) == '-0.0353' else \"delta_in incorrect\")\n",
    "print()\n",
    "\n",
    "print('Gradients')\n",
    "print('partial_W_j correct!' if '{0:0.4f}'.format(partial_W_j[0]) == '-0.1539' else \"partial_W_j incorrect\")\n",
    "print('partial_W_k correct!' if '{0:0.4f}'.format(partial_W_k[0]) == '-0.1576' else \"partial_W_k incorrect\")\n",
    "print('partial_W_i_j correct!' if '{0:0.4f}'.format(partial_W_i_j[0]) == '-0.0194' else \"partial_W_i_j incorrect\")\n",
    "print('partial_W_i_k correct!' if '{0:0.4f}'.format(partial_W_i_k[0]) == '-0.0021' else \"partial_W_i_k incorrect\")\n",
    "print('partial_W_in correct!' if '{0:0.4f}'.format(partial_W_in[0]) == '-0.0897' else \"partial_W_in incorrect\")"
   ]
  }
 ],
 "metadata": {
  "anaconda-cloud": {},
  "kernelspec": {
   "display_name": "Python [py3]",
   "language": "python",
   "name": "Python [py3]"
  },
  "language_info": {
   "codemirror_mode": {
    "name": "ipython",
    "version": 3
   },
   "file_extension": ".py",
   "mimetype": "text/x-python",
   "name": "python",
   "nbconvert_exporter": "python",
   "pygments_lexer": "ipython3",
   "version": "3.6.0"
  }
 },
 "nbformat": 4,
 "nbformat_minor": 0
}
