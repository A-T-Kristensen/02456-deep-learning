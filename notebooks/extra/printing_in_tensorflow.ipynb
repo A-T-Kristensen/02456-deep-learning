{
 "cells": [
  {
   "cell_type": "code",
   "execution_count": null,
   "metadata": {
    "collapsed": true
   },
   "outputs": [],
   "source": [
    "# knowing how to print your tensors and ops is useful, here are some examples\n",
    "print(\"---placeholders---\")\n",
    "print(x_pl.name)\n",
    "print(x_pl)\n",
    "print\n",
    "print(\"---weights---\")\n",
    "print(W_1.name)\n",
    "print(W_1.get_shape())\n",
    "print(W_1)\n",
    "print\n",
    "print(b_1.name)\n",
    "print(b_1)\n",
    "print(b_1.get_shape())\n",
    "print\n",
    "print(\"---ops---\")\n",
    "print(l_1.name)\n",
    "print(l_1)\n",
    "print\n",
    "print(y.name)\n",
    "print(y)"
   ]
  },
  {
   "cell_type": "code",
   "execution_count": null,
   "metadata": {
    "collapsed": true
   },
   "outputs": [],
   "source": [
    "# using the graph to print ops\n",
    "print(\"< operations >\")\n",
    "for op in tf.get_default_graph().get_operations():\n",
    "    print(op.name)\n",
    "print\n",
    "\n",
    "\n",
    "# variables are accessed through tensorflow\n",
    "print(\"< variables >\")\n",
    "for var in tf.global_variables():\n",
    "    print(var.name)\n"
   ]
  }
 ],
 "metadata": {
  "kernelspec": {
   "display_name": "Python [Root]",
   "language": "python",
   "name": "Python [Root]"
  },
  "language_info": {
   "codemirror_mode": {
    "name": "ipython",
    "version": 2
   },
   "file_extension": ".py",
   "mimetype": "text/x-python",
   "name": "python",
   "nbconvert_exporter": "python",
   "pygments_lexer": "ipython2",
   "version": "2.7.12"
  }
 },
 "nbformat": 4,
 "nbformat_minor": 0
}
