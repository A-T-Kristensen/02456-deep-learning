{
 "cells": [
  {
   "cell_type": "markdown",
   "metadata": {},
   "source": [
    "## Using pre-trained models\n"
   ]
  },
  {
   "cell_type": "markdown",
   "metadata": {},
   "source": [
    "One of the cool things about Keras is that it makes it very easy to use pretrained models!\n",
    "\n",
    "Read more about [using pretrained models with Keras](https://keras.io/applications/)\n",
    "\n",
    "22 million parameters\n",
    "\n",
    "[Inception in TF](https://github.com/tensorflow/models/tree/master/inception)\n",
    "\n",
    "Code: [inception_v3.py](https://github.com/tensorflow/tensorflow/blob/master/tensorflow/contrib/keras/python/keras/applications/inception_v3.py). How it is implemented in Keras."
   ]
  },
  {
   "cell_type": "code",
   "execution_count": null,
   "metadata": {
    "collapsed": false
   },
   "outputs": [],
   "source": [
    "## RUN THIS CELL ASAP! It takes a while to complete!\n",
    "## The cell downloads the weights (~80 mb), if they aren't already.\n",
    "\n",
    "# Create a \n",
    "inception_stem = tf.contrib.keras.applications.InceptionV3(\n",
    "    weights='imagenet',\n",
    "    include_top=False, # Don't include the dense layers on top of the network\n",
    "    input_shape=None, # width and height should be no smaller than 139\n",
    "#     pool='avg'\n",
    ")\n",
    "\n",
    "# Initially we don't want to change \n",
    "inception_stem.trainable = False"
   ]
  },
  {
   "cell_type": "code",
   "execution_count": null,
   "metadata": {
    "collapsed": false,
    "scrolled": true
   },
   "outputs": [],
   "source": [
    "## Try and \n",
    "# inception_stem.summary()"
   ]
  },
  {
   "cell_type": "code",
   "execution_count": null,
   "metadata": {
    "collapsed": true
   },
   "outputs": [],
   "source": []
  },
  {
   "cell_type": "markdown",
   "metadata": {
    "collapsed": true
   },
   "source": [
    "# Credits\n",
    "Created by Toke Faurby ([faur](https://github.com/Faur)).\n"
   ]
  }
 ],
 "metadata": {
  "kernelspec": {
   "display_name": "Python 3",
   "language": "python",
   "name": "python3"
  },
  "language_info": {
   "codemirror_mode": {
    "name": "ipython",
    "version": 3
   },
   "file_extension": ".py",
   "mimetype": "text/x-python",
   "name": "python",
   "nbconvert_exporter": "python",
   "pygments_lexer": "ipython3",
   "version": "3.5.2"
  }
 },
 "nbformat": 4,
 "nbformat_minor": 1
}
